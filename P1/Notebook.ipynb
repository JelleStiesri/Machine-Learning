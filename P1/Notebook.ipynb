{
 "cells": [
  {
   "cell_type": "markdown",
   "metadata": {},
   "source": [
    "#### Imports"
   ]
  },
  {
   "cell_type": "code",
   "execution_count": 1,
   "metadata": {},
   "outputs": [],
   "source": [
    "import pandas as pd\n",
    "from Perceptron import *\n",
    "from PerceptronLayer import *\n",
    "from PerceptronNetwork import *\n"
   ]
  },
  {
   "cell_type": "markdown",
   "metadata": {},
   "source": [
    "#### Maken van een waarheidstabel"
   ]
  },
  {
   "cell_type": "code",
   "execution_count": 2,
   "metadata": {},
   "outputs": [],
   "source": [
    "def create_table_data(function, expectation):\n",
    "    \"\"\"Deze functie berekent de uitkomst van een perceptron/netwerk, Als input gebruikt hij de door mij gegeven data\n",
    "    en haalt daar de uitkomst vanaf (zodat de inputs hetzelfde zijn)\"\"\"\n",
    "    data = []\n",
    "    \n",
    "    for item in expectation:\n",
    "        row = item[:len(expectation[0])-1]\n",
    "        row.append(function(row))\n",
    "        data.append(row)\n",
    "    return data"
   ]
  },
  {
   "cell_type": "code",
   "execution_count": 3,
   "metadata": {},
   "outputs": [],
   "source": [
    "def print_table(data, caption):\n",
    "    \"\"\"Deze functie print een waarheidstabel\"\"\"\n",
    "    number_of_columns = len(data[0])  # Aantal kolommen\n",
    "    \n",
    "    columns = []\n",
    "    for item in range(number_of_columns):\n",
    "        if item == number_of_columns-1:\n",
    "            columns.append('Output')\n",
    "        else: \n",
    "            columns.append('x'+str(item+1))\n",
    "\n",
    "    df = pd.DataFrame.from_records(data, columns=columns)\n",
    "    print(f'<{caption}>\\n {df}\\n')"
   ]
  },
  {
   "cell_type": "markdown",
   "metadata": {},
   "source": [
    "#### Uitkomsten testen"
   ]
  },
  {
   "cell_type": "code",
   "execution_count": 4,
   "metadata": {},
   "outputs": [],
   "source": [
    "def test_outcome(expectation, outcome):\n",
    "    \"\"\"Deze functie test of de uitkomst van een perceptron/netwerk hetzelfde is als de verwachting.\n",
    "    Ik heb gekozen om dit op deze 'assert' manier te doen omdat deze functie nu makkelijk en flexibel aan te roepen is.\n",
    "    \"\"\"\n",
    "    assert expectation == outcome, 'Test mislukt - Verwachting & uitkomst niet hetzelfde'\n",
    "    print(\"Test geslaagd - Verwachting & uitkomst hetzelfde\")"
   ]
  },
  {
   "cell_type": "markdown",
   "metadata": {},
   "source": [
    "## Perceptron unit"
   ]
  },
  {
   "attachments": {
    "image.png": {
     "image/png": "[encoded data removed]"
    }
   },
   "cell_type": "markdown",
   "metadata": {},
   "source": [
    "#### NOT\n",
    "\n",
    "![image.png](attachment:image.png)"
   ]
  },
  {
   "cell_type": "code",
   "execution_count": 5,
   "metadata": {},
   "outputs": [
    {
     "name": "stdout",
     "output_type": "stream",
     "text": [
      "<NOT port>\n",
      "- Bias = 0.5\n",
      "- Weights = [-1]\n",
      "\n",
      "<Verwachting>\n",
      "       x1  Output\n",
      "0  False    True\n",
      "1   True   False\n",
      "\n",
      "<Uitkomst>\n",
      "       x1  Output\n",
      "0  False    True\n",
      "1   True   False\n",
      "\n",
      "Test geslaagd - Verwachting & uitkomst hetzelfde\n"
     ]
    }
   ],
   "source": [
    "\"\"\"Invert Test\"\"\"\n",
    "p_not = Perceptron('NOT', 0.5, [-1])\n",
    "print(p_not)\n",
    "\n",
    "not_expectation = [[False, True], [True, False]]\n",
    "not_outcome = create_table_data(p_not.activation, not_expectation)\n",
    "\n",
    "print_table(not_expectation, 'Verwachting')\n",
    "print_table(not_outcome,'Uitkomst')\n",
    "\n",
    "test_outcome(not_expectation, not_outcome)\n"
   ]
  },
  {
   "cell_type": "code",
   "execution_count": 6,
   "metadata": {},
   "outputs": [
    {
     "ename": "AssertionError",
     "evalue": "Test mislukt - Verwachting & uitkomst niet hetzelfde",
     "output_type": "error",
     "traceback": [
      "\u001b[1;31m---------------------------------------------------------------------------\u001b[0m",
      "\u001b[1;31mAssertionError\u001b[0m                            Traceback (most recent call last)",
      "\u001b[1;32m<ipython-input-6-25e7a1f157f3>\u001b[0m in \u001b[0;36m<module>\u001b[1;34m\u001b[0m\n\u001b[0;32m      2\u001b[0m zal ik 1 keer een falende test aanroepen.\"\"\"\n\u001b[0;32m      3\u001b[0m \u001b[1;33m\u001b[0m\u001b[0m\n\u001b[1;32m----> 4\u001b[1;33m \u001b[0mtest_outcome\u001b[0m\u001b[1;33m(\u001b[0m\u001b[1;33m[\u001b[0m\u001b[1;33m[\u001b[0m\u001b[1;32mFalse\u001b[0m\u001b[1;33m,\u001b[0m \u001b[1;32mTrue\u001b[0m\u001b[1;33m]\u001b[0m\u001b[1;33m,\u001b[0m \u001b[1;33m[\u001b[0m\u001b[1;32mFalse\u001b[0m\u001b[1;33m,\u001b[0m \u001b[1;32mFalse\u001b[0m\u001b[1;33m]\u001b[0m\u001b[1;33m]\u001b[0m\u001b[1;33m,\u001b[0m \u001b[0mnot_outcome\u001b[0m\u001b[1;33m)\u001b[0m\u001b[1;33m\u001b[0m\u001b[1;33m\u001b[0m\u001b[0m\n\u001b[0m",
      "\u001b[1;32m<ipython-input-4-97162d8af0ef>\u001b[0m in \u001b[0;36mtest_outcome\u001b[1;34m(expectation, outcome)\u001b[0m\n\u001b[0;32m      3\u001b[0m     \u001b[0mIk\u001b[0m \u001b[0mheb\u001b[0m \u001b[0mgekozen\u001b[0m \u001b[0mom\u001b[0m \u001b[0mdit\u001b[0m \u001b[0mop\u001b[0m \u001b[0mdeze\u001b[0m \u001b[1;34m'assert'\u001b[0m \u001b[0mmanier\u001b[0m \u001b[0mte\u001b[0m \u001b[0mdoen\u001b[0m \u001b[0momdat\u001b[0m \u001b[0mdeze\u001b[0m \u001b[0mfunctie\u001b[0m \u001b[0mnu\u001b[0m \u001b[0mmakkelijk\u001b[0m \u001b[0men\u001b[0m \u001b[0mflexibel\u001b[0m \u001b[0maan\u001b[0m \u001b[0mte\u001b[0m \u001b[0mroepen\u001b[0m \u001b[1;32mis\u001b[0m\u001b[1;33m.\u001b[0m\u001b[1;33m\u001b[0m\u001b[1;33m\u001b[0m\u001b[0m\n\u001b[0;32m      4\u001b[0m     \"\"\"\n\u001b[1;32m----> 5\u001b[1;33m     \u001b[1;32massert\u001b[0m \u001b[0mexpectation\u001b[0m \u001b[1;33m==\u001b[0m \u001b[0moutcome\u001b[0m\u001b[1;33m,\u001b[0m \u001b[1;34m'Test mislukt - Verwachting & uitkomst niet hetzelfde'\u001b[0m\u001b[1;33m\u001b[0m\u001b[1;33m\u001b[0m\u001b[0m\n\u001b[0m\u001b[0;32m      6\u001b[0m     \u001b[0mprint\u001b[0m\u001b[1;33m(\u001b[0m\u001b[1;34m\"Test geslaagd - Verwachting & uitkomst hetzelfde\"\u001b[0m\u001b[1;33m)\u001b[0m\u001b[1;33m\u001b[0m\u001b[1;33m\u001b[0m\u001b[0m\n",
      "\u001b[1;31mAssertionError\u001b[0m: Test mislukt - Verwachting & uitkomst niet hetzelfde"
     ]
    }
   ],
   "source": [
    "\"\"\"Om te laten zien wat er gebeurt als de verwachting en uikomst niet hetzelfde zijn \n",
    "zal ik 1 keer een falende test aanroepen.\"\"\"\n",
    "\n",
    "test_outcome([[False, True], [False, False]], not_outcome)\n"
   ]
  },
  {
   "attachments": {
    "image.png": {
     "image/png": "[encoded data removed]"
    }
   },
   "cell_type": "markdown",
   "metadata": {},
   "source": [
    "#### AND\n",
    "![image.png](attachment:image.png)\n"
   ]
  },
  {
   "cell_type": "code",
   "execution_count": null,
   "metadata": {},
   "outputs": [],
   "source": [
    "\"\"\"AND Test\"\"\"\n",
    "\n",
    "p_and = Perceptron('AND', -1.5, [1, 1])\n",
    "print(p_and)\n",
    "\n",
    "and_expectation = [[False, False, False], \n",
    "                   [False, True, False], \n",
    "                   [True, False, False], \n",
    "                   [True, True, True]]\n",
    "\n",
    "and_outcome = create_table_data(p_and.activation, and_expectation)\n",
    "\n",
    "print_table(and_expectation, 'Verwachting')\n",
    "print_table(and_outcome,'Uitkomst')\n",
    "\n",
    "test_outcome(and_expectation, and_outcome)\n"
   ]
  },
  {
   "attachments": {
    "image.png": {
     "image/png": "[encoded data removed]"
    }
   },
   "cell_type": "markdown",
   "metadata": {},
   "source": [
    "#### OR\n",
    "![image.png](attachment:image.png)"
   ]
  },
  {
   "cell_type": "code",
   "execution_count": null,
   "metadata": {},
   "outputs": [],
   "source": [
    "\"\"\"OR Test\"\"\"\n",
    "\n",
    "p_or = Perceptron('OR', -0.5, [0.5, 0.5])\n",
    "print(p_or)\n",
    "\n",
    "or_expectation = [[False, False, False], \n",
    "                   [False, True, True], \n",
    "                   [True, False, True], \n",
    "                   [True, True, True]]\n",
    "or_outcome = create_table_data(p_or.activation, or_expectation)\n",
    "\n",
    "print_table(or_expectation, 'Verwachting')\n",
    "print_table(or_outcome,'Uitkomst')\n",
    "\n",
    "test_outcome(or_expectation, or_outcome)"
   ]
  },
  {
   "attachments": {
    "image.png": {
     "image/png": "[encoded data removed]"
    }
   },
   "cell_type": "markdown",
   "metadata": {},
   "source": [
    "#### Nor\n",
    "![image.png](attachment:image.png)\n",
    "\n"
   ]
  },
  {
   "cell_type": "code",
   "execution_count": null,
   "metadata": {},
   "outputs": [],
   "source": [
    "\"\"\"NOR Test\"\"\"\n",
    "\n",
    "p_nor = Perceptron('NOR', 0, [-1, -1, -1])\n",
    "print(p_nor)\n",
    "\n",
    "nor_expectation = [[False, False, False, True], \n",
    "                   [False, False, True, False], \n",
    "                   [False, True, False, False], \n",
    "                   [True, False, False, False],\n",
    "                   [False, True, True, False], \n",
    "                   [True, True, False, False],\n",
    "                   [True, False, True, False], \n",
    "                   [True, True, True, False]]\n",
    "nor_outcome = create_table_data(p_nor.activation, nor_expectation)\n",
    "\n",
    "print_table(nor_expectation, 'Verwachting')\n",
    "print_table(nor_outcome,'Uitkomst')\n",
    "\n",
    "test_outcome(nor_expectation, nor_outcome)"
   ]
  },
  {
   "attachments": {
    "image.png": {
     "image/png": "[encoded data removed]"
    }
   },
   "cell_type": "markdown",
   "metadata": {},
   "source": [
    "#### Party\n",
    "\n",
    "![image.png](attachment:image.png)\n"
   ]
  },
  {
   "cell_type": "code",
   "execution_count": null,
   "metadata": {},
   "outputs": [],
   "source": [
    "\"\"\"Party Test\"\"\"\n",
    "\n",
    "p_party = Perceptron('PARTY', -0.4, [0.6, 0.3, 0.2])\n",
    "print(p_party)\n",
    "\n",
    "party_expectation = [[False, False, False, False], \n",
    "                   [False, False, True, False], \n",
    "                   [False, True, False, False], \n",
    "                   [True, False, False, True],\n",
    "                   [False, True, True, True], \n",
    "                   [True, True, False, True],\n",
    "                   [True, False, True, True], \n",
    "                   [True, True, True, True]]\n",
    "party_outcome = create_table_data(p_party.activation, party_expectation)\n",
    "\n",
    "print_table(party_expectation, 'Verwachting')\n",
    "print_table(party_outcome,'Uitkomst')\n",
    "\n",
    "test_outcome(party_expectation, party_outcome)"
   ]
  },
  {
   "cell_type": "markdown",
   "metadata": {},
   "source": [
    "## Perceptron netwerk"
   ]
  },
  {
   "attachments": {
    "image.png": {
     "image/png": "[encoded data removed]"
    }
   },
   "cell_type": "markdown",
   "metadata": {},
   "source": [
    "#### XOR\n",
    "![image.png](attachment:image.png)"
   ]
  },
  {
   "cell_type": "code",
   "execution_count": null,
   "metadata": {},
   "outputs": [],
   "source": [
    "p1 = Perceptron('P1 [AND]', -1, [0.5, 0.5])\n",
    "p2 = Perceptron('P2 [OR]', -1, [1, 1])\n",
    "p3 = Perceptron('P2 [XOR]', -1, [-1, 1])\n",
    "\n",
    "layer1 = PerceptronLayer('Laag-1 [Hidden]', [p1, p2])\n",
    "layer2 = PerceptronLayer('Laag-2 [Output]', [p3])\n",
    "\n",
    "network_xor = PerceptronNetwork([layer1, layer2])\n",
    "print(network_xor)\n",
    "    \n",
    "xor_expectation = [[False, False, False], \n",
    "                   [False, True, True], \n",
    "                   [True, False, True], \n",
    "                   [True, True, False]]\n",
    "\n",
    "xor_outcome = create_table_data(network_xor.feed_forward, xor_expectation)\n",
    "\n",
    "print_table(xor_expectation, 'Verwachting')\n",
    "print_table(xor_outcome,'Uitkomst')\n",
    "\n",
    "test_outcome(xor_expectation, xor_outcome)\n",
    "    \n",
    " "
   ]
  },
  {
   "attachments": {
    "image.png": {
     "image/png": "[encoded data removed]"
    }
   },
   "cell_type": "markdown",
   "metadata": {},
   "source": [
    "#### Half-adder\n",
    "![image.png](attachment:image.png)"
   ]
  },
  {
   "cell_type": "code",
   "execution_count": null,
   "metadata": {},
   "outputs": [],
   "source": [
    "# Laag 1\n",
    "p1 = Perceptron('P1', -1, [1, 0])\n",
    "p2 = Perceptron('NAND', 1.5, [-1, -1])\n",
    "p3 = Perceptron('P3', -1, [0, 1])\n",
    "layer1 = PerceptronLayer('Layer-1 [Hidden]', [p1, p2, p3])\n",
    "\n",
    "# Laag 2\n",
    "p4 = Perceptron('NAND', 1.5, [-1, -1, 0])\n",
    "p5 = Perceptron('NAND', 1.5, [0, -1, -1])\n",
    "p6 = Perceptron('P9', -1, [0, 1, 0])\n",
    "layer2 = PerceptronLayer('Layer-2 [Hidden]', [p4, p5, p6])\n",
    "\n",
    "# Laag 3\n",
    "p7 = Perceptron('SUM [NAND]', 1.5, [-1, -1, 0])\n",
    "p8 = Perceptron('CARRY [NAND]', 1.5, [0, 0, -2])\n",
    "layer3 = PerceptronLayer('Layer-3 [Hidden]', [p7, p8])\n",
    "\n",
    "network_adder = PerceptronNetwork([layer1, layer2, layer3])\n",
    "print(network_adder)\n",
    "    \n",
    "adder_expectation = [[False, False, [False, False]], \n",
    "                   [False, True, [True, False]], \n",
    "                   [True, False, [True, False]], \n",
    "                   [True, True, [False, True]]]\n",
    "\n",
    "adder_outcome = create_table_data(network_adder.feed_forward, adder_expectation)\n",
    "\n",
    "print_table(adder_expectation, 'Verwachting')\n",
    "print_table(adder_outcome,'Uitkomst')\n",
    "\n",
    "test_outcome(adder_expectation, adder_outcome)\n",
    "\n",
    "\n",
    "\"\"\"De output is een beetje raar, dit is [Carry, Sum] Dit fixen was onnodig veel werk omdat het alleen maar is\n",
    "om het te laten zien/bewijzen\"\"\""
   ]
  },
  {
   "cell_type": "code",
   "execution_count": null,
   "metadata": {},
   "outputs": [],
   "source": []
  },
  {
   "cell_type": "code",
   "execution_count": null,
   "metadata": {},
   "outputs": [],
   "source": []
  }
 ],
 "metadata": {
  "kernelspec": {
   "display_name": "Python 3",
   "language": "python",
   "name": "python3"
  },
  "language_info": {
   "codemirror_mode": {
    "name": "ipython",
    "version": 3
   },
   "file_extension": ".py",
   "mimetype": "text/x-python",
   "name": "python",
   "nbconvert_exporter": "python",
   "pygments_lexer": "ipython3",
   "version": "3.8.3"
  }
 },
 "nbformat": 4,
 "nbformat_minor": 4
}
