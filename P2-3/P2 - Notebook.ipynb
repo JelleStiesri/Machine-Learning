{
 "cells": [
  {
   "cell_type": "markdown",
   "metadata": {},
   "source": [
    "#### Imports"
   ]
  },
  {
   "cell_type": "code",
   "execution_count": 1,
   "metadata": {},
   "outputs": [],
   "source": [
    "import pandas as pd\n",
    "import random\n",
    "from Perceptron import *\n",
    "from PerceptronLayer import *\n",
    "from PerceptronNetwork import *\n",
    "\n",
    "random.seed(1755920)"
   ]
  },
  {
   "cell_type": "markdown",
   "metadata": {},
   "source": [
    "#### Maken van een waarheidstabel"
   ]
  },
  {
   "cell_type": "code",
   "execution_count": 2,
   "metadata": {},
   "outputs": [],
   "source": [
    "def create_table_data(function, expectations):\n",
    "    \"\"\"Deze functie berekent de uitkomst van een perceptron/netwerk en geeft dit terug in een goed format\"\"\"\n",
    "    data = []\n",
    "\n",
    "    for item in expectations:\n",
    "\n",
    "        output = function(item[0])\n",
    "        data.append([item[0], output])\n",
    "    return data\n"
   ]
  },
  {
   "cell_type": "code",
   "execution_count": 3,
   "metadata": {},
   "outputs": [],
   "source": [
    "def print_table(data, caption):\n",
    "    \"\"\"Deze functie print een waarheidstabel\"\"\"\n",
    "\n",
    "    columns = ['Input', 'Output']\n",
    "\n",
    "    df = pd.DataFrame.from_records(data, columns=columns)\n",
    "    print(f'<{caption}>\\n {df}\\n')\n",
    "    "
   ]
  },
  {
   "cell_type": "markdown",
   "metadata": {},
   "source": [
    "#### Uitkomsten testen"
   ]
  },
  {
   "cell_type": "code",
   "execution_count": 4,
   "metadata": {},
   "outputs": [],
   "source": [
    "def test_outcome(expectation, outcome):\n",
    "    \"\"\"Deze functie test of de uitkomst van een perceptron/netwerk hetzelfde is als de verwachting.\n",
    "    Ik heb gekozen om dit op deze 'assert' manier te doen omdat deze functie nu makkelijk en flexibel aan te roepen is.\n",
    "    \"\"\"\n",
    "\n",
    "    if expectation == outcome:\n",
    "        print(\"Test geslaagd - Verwachting & uitkomst hetzelfde\")\n",
    "    else:\n",
    "        print('Test mislukt - Verwachting & uitkomst niet hetzelfde')"
   ]
  },
  {
   "cell_type": "markdown",
   "metadata": {},
   "source": [
    "#### Random startwaarden"
   ]
  },
  {
   "cell_type": "code",
   "execution_count": 5,
   "metadata": {},
   "outputs": [],
   "source": [
    "def generate_random_float():\n",
    "    return round(random.uniform(-10, 10),1)\n",
    "\n",
    "def generate_random_list(numbers):\n",
    "    lst = []\n",
    "    for item in range(numbers):\n",
    "        lst.append(generate_random_float())\n",
    "    return lst\n"
   ]
  },
  {
   "cell_type": "markdown",
   "metadata": {},
   "source": [
    "## Testen"
   ]
  },
  {
   "attachments": {
    "image.png": {
     "image/png": "[encoded data removed]"
    }
   },
   "cell_type": "markdown",
   "metadata": {},
   "source": [
    "#### AND gate\n",
    "![image.png](attachment:image.png)"
   ]
  },
  {
   "cell_type": "code",
   "execution_count": 6,
   "metadata": {},
   "outputs": [
    {
     "name": "stdout",
     "output_type": "stream",
     "text": [
      "<AND port>\n",
      "- Bias = -5.0\n",
      "- Weights = [-10.0, -0.5]\n",
      "\n",
      "<Verwachting>\n",
      "             Input  Output\n",
      "0  [False, False]   False\n",
      "1   [False, True]   False\n",
      "2   [True, False]   False\n",
      "3    [True, True]    True\n",
      "\n",
      "<Uitkomst>\n",
      "             Input  Output\n",
      "0  [False, False]   False\n",
      "1   [False, True]   False\n",
      "2   [True, False]   False\n",
      "3    [True, True]   False\n",
      "\n",
      "Test mislukt - Verwachting & uitkomst niet hetzelfde\n",
      "Error = 0.25\n",
      "======================\n",
      "UPDATE\n",
      "\n",
      "<AND port>\n",
      "- Bias = -2.300000000000002\n",
      "- Weights = [0.19999999999998122, 2.2000000000000006]\n",
      "\n",
      "<Uitkomst>\n",
      "             Input  Output\n",
      "0  [False, False]   False\n",
      "1   [False, True]   False\n",
      "2   [True, False]   False\n",
      "3    [True, True]    True\n",
      "\n",
      "Test geslaagd - Verwachting & uitkomst hetzelfde\n",
      "Error = 0.0\n",
      "======================\n"
     ]
    }
   ],
   "source": [
    "AND = Perceptron('AND', generate_random_float(), generate_random_list(2))\n",
    "print(AND)\n",
    "\n",
    "expectations = [[[False, False], False],\n",
    "                [[False, True], False],\n",
    "                [[True, False], False],\n",
    "                [[True, True], True]]\n",
    "print_table(expectations, 'Verwachting')\n",
    "\n",
    "output = create_table_data(AND.activation, expectations)\n",
    "print_table(output, 'Uitkomst')\n",
    "test_outcome(expectations, output)\n",
    "print(f'Error = {AND.error(expectations)}\\n======================\\nUPDATE\\n')\n",
    "\n",
    "AND.update(expectations, 500)\n",
    "print(AND)\n",
    "updated_output = create_table_data(AND.activation, expectations)\n",
    "print_table(updated_output, 'Uitkomst')\n",
    "test_outcome(expectations, updated_output)\n",
    "print(f'Error = {AND.error(expectations)}\\n======================')"
   ]
  },
  {
   "attachments": {
    "image.png": {
     "image/png": "[encoded data removed]"
    }
   },
   "cell_type": "markdown",
   "metadata": {},
   "source": [
    "#### XOR gate\n",
    "![image.png](attachment:image.png)\n",
    "\n",
    "\n"
   ]
  },
  {
   "attachments": {
    "image.png": {
     "image/png": "[encoded data removed]"
    }
   },
   "cell_type": "markdown",
   "metadata": {},
   "source": [
    "![image.png](attachment:image.png)\n",
    "\n",
    "(Niet linear scheidbaar)"
   ]
  },
  {
   "cell_type": "code",
   "execution_count": 7,
   "metadata": {},
   "outputs": [
    {
     "name": "stdout",
     "output_type": "stream",
     "text": [
      "<XOR port>\n",
      "- Bias = 1.6\n",
      "- Weights = [-1.6, 9.1]\n",
      "\n",
      "<Verwachting>\n",
      "             Input  Output\n",
      "0  [False, False]   False\n",
      "1   [False, True]    True\n",
      "2   [True, False]    True\n",
      "3    [True, True]   False\n",
      "\n",
      "<Uitkomst>\n",
      "             Input  Output\n",
      "0  [False, False]    True\n",
      "1   [False, True]    True\n",
      "2   [True, False]    True\n",
      "3    [True, True]    True\n",
      "\n",
      "Test mislukt - Verwachting & uitkomst niet hetzelfde\n",
      "Error = 0.5\n",
      "======================\n",
      "UPDATE\n",
      "\n",
      "<XOR port>\n",
      "- Bias = 0.09999999999999981\n",
      "- Weights = [-0.19999999999999982, -0.09999999999998477]\n",
      "\n",
      "<Uitkomst>\n",
      "             Input  Output\n",
      "0  [False, False]    True\n",
      "1   [False, True]    True\n",
      "2   [True, False]   False\n",
      "3    [True, True]   False\n",
      "\n",
      "Test mislukt - Verwachting & uitkomst niet hetzelfde\n",
      "Error = 0.5\n",
      "======================\n"
     ]
    }
   ],
   "source": [
    "XOR = Perceptron('XOR', generate_random_float(), generate_random_list(2))\n",
    "print(XOR)\n",
    "\n",
    "expectations = [[[False, False], False],\n",
    "                [[False, True], True],\n",
    "                [[True, False], True],\n",
    "                [[True, True], False]]\n",
    "print_table(expectations, 'Verwachting')\n",
    "\n",
    "output = create_table_data(XOR.activation, expectations)\n",
    "print_table(output, 'Uitkomst')\n",
    "test_outcome(expectations, output)\n",
    "print(f'Error = {XOR.error(expectations)}\\n======================\\nUPDATE\\n')\n",
    "\n",
    "XOR.update(expectations, 5000)\n",
    "print(XOR)\n",
    "updated_output = create_table_data(XOR.activation, expectations)\n",
    "print_table(updated_output, 'Uitkomst')\n",
    "test_outcome(expectations, updated_output)\n",
    "print(f'Error = {XOR.error(expectations)}\\n======================')"
   ]
  },
  {
   "cell_type": "markdown",
   "metadata": {},
   "source": [
    "Uitkomst: XOR port is niet met 1 perceptron te maken, dit komt omdat het niet linear scheidbaar is."
   ]
  },
  {
   "cell_type": "markdown",
   "metadata": {},
   "source": [
    "## IRIS dataset\n"
   ]
  },
  {
   "cell_type": "markdown",
   "metadata": {},
   "source": [
    "### Setosa & Versicolour\n",
    "Classificeer eerst alleen de types Setosa en Versicolour. Wat zijn de uiteindelijke parameters van de perceptron?"
   ]
  },
  {
   "cell_type": "code",
   "execution_count": 8,
   "metadata": {},
   "outputs": [],
   "source": [
    "from sklearn.datasets import load_iris\n",
    "\n",
    "data = load_iris()"
   ]
  },
  {
   "cell_type": "code",
   "execution_count": 9,
   "metadata": {},
   "outputs": [
    {
     "data": {
      "text/plain": [
       "[[5.1, 3.5, 1.4, 0.2], 0]"
      ]
     },
     "execution_count": 9,
     "metadata": {},
     "output_type": "execute_result"
    }
   ],
   "source": [
    "\"\"\"We mogen helaas geen panda's gebruiken, daarop selecteren we iets knullig de juiste rijen\"\"\"\n",
    "\n",
    "# Features\n",
    "set_ver_features = data['data'][:100]\n",
    "set_ver_targets = data['target'][:100]\n",
    "# set_ver_features, set_ver_targets\n",
    "\n",
    "iris_data_2 = []\n",
    "for index in range(len(set_ver_features)):\n",
    "    iris_data_2.append([list(set_ver_features[index]), set_ver_targets[index]])\n",
    "iris_data_2[0]"
   ]
  },
  {
   "cell_type": "code",
   "execution_count": 10,
   "metadata": {
    "scrolled": false
   },
   "outputs": [
    {
     "name": "stdout",
     "output_type": "stream",
     "text": [
      "<IRIS2 port>\n",
      "- Bias = -5.1\n",
      "- Weights = [4.4, 9.5, 9.7, 0.3]\n",
      "\n"
     ]
    },
    {
     "ename": "NameError",
     "evalue": "name 'data_list' is not defined",
     "output_type": "error",
     "traceback": [
      "\u001b[1;31m---------------------------------------------------------------------------\u001b[0m",
      "\u001b[1;31mNameError\u001b[0m                                 Traceback (most recent call last)",
      "\u001b[1;32m<ipython-input-10-1a1efad29fad>\u001b[0m in \u001b[0;36m<module>\u001b[1;34m\u001b[0m\n\u001b[0;32m      2\u001b[0m \u001b[0mprint\u001b[0m\u001b[1;33m(\u001b[0m\u001b[0mIRIS2\u001b[0m\u001b[1;33m)\u001b[0m\u001b[1;33m\u001b[0m\u001b[1;33m\u001b[0m\u001b[0m\n\u001b[0;32m      3\u001b[0m \u001b[1;33m\u001b[0m\u001b[0m\n\u001b[1;32m----> 4\u001b[1;33m \u001b[0mprint_table\u001b[0m\u001b[1;33m(\u001b[0m\u001b[0mdata_list\u001b[0m\u001b[1;33m,\u001b[0m \u001b[1;34m'Verwachting'\u001b[0m\u001b[1;33m)\u001b[0m\u001b[1;33m\u001b[0m\u001b[1;33m\u001b[0m\u001b[0m\n\u001b[0m\u001b[0;32m      5\u001b[0m \u001b[1;33m\u001b[0m\u001b[0m\n\u001b[0;32m      6\u001b[0m \u001b[0moutput\u001b[0m \u001b[1;33m=\u001b[0m \u001b[0mcreate_table_data\u001b[0m\u001b[1;33m(\u001b[0m\u001b[0mIRIS2\u001b[0m\u001b[1;33m.\u001b[0m\u001b[0mactivation\u001b[0m\u001b[1;33m,\u001b[0m \u001b[0miris_data_2\u001b[0m\u001b[1;33m)\u001b[0m\u001b[1;33m\u001b[0m\u001b[1;33m\u001b[0m\u001b[0m\n",
      "\u001b[1;31mNameError\u001b[0m: name 'data_list' is not defined"
     ]
    }
   ],
   "source": [
    "IRIS2 = Perceptron('IRIS2', generate_random_float(), generate_random_list(len(iris_data_2[0][0])))\n",
    "print(IRIS2)\n",
    "\n",
    "print_table(data_list, 'Verwachting')\n",
    "\n",
    "output = create_table_data(IRIS2.activation, iris_data_2)\n",
    "print_table(output, 'Uitkomst')\n",
    "test_outcome(iris_data_2, output)\n",
    "print(f'Error = {IRIS2.error(iris_data_2)}\\n======================\\nUPDATE\\n')\n",
    "\n",
    "IRIS2.update(iris_data_2, 5000)\n",
    "print(IRIS2)\n",
    "updated_output = create_table_data(IRIS2.activation, iris_data_2)\n",
    "print_table(updated_output, 'Uitkomst')\n",
    "test_outcome(iris_data_2, updated_output)\n",
    "print(f'Error = {IRIS2.error(iris_data_2)}\\n======================')"
   ]
  },
  {
   "cell_type": "code",
   "execution_count": null,
   "metadata": {},
   "outputs": [],
   "source": []
  }
 ],
 "metadata": {
  "kernelspec": {
   "display_name": "Python 3",
   "language": "python",
   "name": "python3"
  },
  "language_info": {
   "codemirror_mode": {
    "name": "ipython",
    "version": 3
   },
   "file_extension": ".py",
   "mimetype": "text/x-python",
   "name": "python",
   "nbconvert_exporter": "python",
   "pygments_lexer": "ipython3",
   "version": "3.8.3"
  }
 },
 "nbformat": 4,
 "nbformat_minor": 4
}
