{
 "cells": [
  {
   "cell_type": "markdown",
   "metadata": {},
   "source": [
    "#### Imports"
   ]
  },
  {
   "cell_type": "code",
   "execution_count": 1,
   "metadata": {},
   "outputs": [],
   "source": [
    "import pandas as pd\n",
    "from Neuron import *\n",
    "from NeuronLayer import *\n",
    "from NeuronNetwork import *\n",
    "\n",
    "from math import e"
   ]
  },
  {
   "cell_type": "markdown",
   "metadata": {},
   "source": [
    "#### Maken van een waarheidstabel"
   ]
  },
  {
   "cell_type": "code",
   "execution_count": 2,
   "metadata": {},
   "outputs": [],
   "source": [
    "def create_table_data(function, expectations):\n",
    "    \"\"\"Deze functie berekent de uitkomst van een perceptron/netwerk en geeft dit terug in een goed format\"\"\"\n",
    "    data = []\n",
    "\n",
    "    for item in expectations:\n",
    "        output = function(item[0])\n",
    "        data.append([item[0], output])\n",
    "    return data\n"
   ]
  },
  {
   "cell_type": "code",
   "execution_count": 3,
   "metadata": {},
   "outputs": [],
   "source": [
    "def print_table(data, caption):\n",
    "    \"\"\"Deze functie print een waarheidstabel\"\"\"\n",
    "\n",
    "    columns = ['Input', 'Output']\n",
    "\n",
    "    df = pd.DataFrame.from_records(data, columns=columns)\n",
    "    print(f'<{caption}>\\n {df}\\n')\n",
    "    "
   ]
  },
  {
   "cell_type": "markdown",
   "metadata": {},
   "source": [
    "#### Uitkomsten testen"
   ]
  },
  {
   "cell_type": "code",
   "execution_count": 4,
   "metadata": {},
   "outputs": [],
   "source": [
    "def test_outcome(expectation, outcome):\n",
    "    \"\"\"Deze functie test of de uitkomst van een perceptron/netwerk hetzelfde is als de verwachting.\n",
    "    Ik heb gekozen om dit op deze 'assert' manier te doen omdat deze functie nu makkelijk en flexibel aan te roepen is.\n",
    "    \"\"\"\n",
    "\n",
    "    if expectation == outcome:\n",
    "        print(\"Test geslaagd - Verwachting & uitkomst hetzelfde\")\n",
    "    else:\n",
    "        print('Test mislukt - Verwachting & uitkomst niet hetzelfde')\n",
    "        "
   ]
  },
  {
   "cell_type": "markdown",
   "metadata": {},
   "source": [
    "## Perceptron unit\n",
    "Omdat het niet echt mogelijk is om een duidelijke 1 of 0 als antwoord uit de sigmoid te krijgnen is de test_outcome niet helemaal geldig."
   ]
  },
  {
   "attachments": {
    "image.png": {
     "image/png": "[encoded data removed]"
    }
   },
   "cell_type": "markdown",
   "metadata": {},
   "source": [
    "#### NOT\n",
    "\n",
    "![image.png](attachment:image.png)"
   ]
  },
  {
   "cell_type": "code",
   "execution_count": 5,
   "metadata": {},
   "outputs": [
    {
     "name": "stdout",
     "output_type": "stream",
     "text": [
      "<NOT port>\n",
      "- Bias = 0.5\n",
      "- Weights = [-1]\n",
      "\n",
      "<Verwachting>\n",
      "   Input  Output\n",
      "0   [0]       1\n",
      "1   [1]       0\n",
      "\n",
      "<Uitkomst>\n",
      "   Input    Output\n",
      "0   [0]  0.622459\n",
      "1   [1]  0.377541\n",
      "\n",
      "Test mislukt - Verwachting & uitkomst niet hetzelfde\n"
     ]
    }
   ],
   "source": [
    "\"\"\"NOT Test\"\"\"\n",
    "n_not = Neuron('NOT', 0.5, [-1])\n",
    "print(n_not)\n",
    "\n",
    "not_expectation = [[[0], 1], \n",
    "                   [[1], 0]]\n",
    "not_outcome = create_table_data(n_not.activation, not_expectation)\n",
    "\n",
    "print_table(not_expectation, 'Verwachting')\n",
    "print_table(not_outcome,'Uitkomst')\n",
    "\n",
    "test_outcome(not_expectation, not_outcome)\n"
   ]
  },
  {
   "cell_type": "markdown",
   "metadata": {},
   "source": [
    "**Uitkomst**\n",
    "\n",
    "De NOT gate functioneert nog niet helemaal naar behoren"
   ]
  },
  {
   "cell_type": "markdown",
   "metadata": {},
   "source": [
    "De uitslag komt al in de buurt van 0 -> 1 & 1 -> 0 maar is er nog niet (1/3 van af ongeveer)"
   ]
  },
  {
   "cell_type": "code",
   "execution_count": 6,
   "metadata": {},
   "outputs": [
    {
     "name": "stdout",
     "output_type": "stream",
     "text": [
      "<NOT port>\n",
      "- Bias = 6\n",
      "- Weights = [-10]\n",
      "\n",
      "<Verwachting>\n",
      "   Input  Output\n",
      "0   [0]       1\n",
      "1   [1]       0\n",
      "\n",
      "<Uitkomst>\n",
      "   Input    Output\n",
      "0   [0]  0.997527\n",
      "1   [1]  0.017986\n",
      "\n"
     ]
    }
   ],
   "source": [
    "\"\"\"NOT Test\"\"\"\n",
    "n_not = Neuron('NOT', 6, [-10])\n",
    "print(n_not)\n",
    "\n",
    "not_expectation = [[[0], 1], [[1], 0]]\n",
    "not_outcome = create_table_data(n_not.activation, not_expectation)\n",
    "\n",
    "print_table(not_expectation, 'Verwachting')\n",
    "print_table(not_outcome,'Uitkomst')\n"
   ]
  },
  {
   "cell_type": "markdown",
   "metadata": {},
   "source": [
    "**Uitkomst**\n",
    "\n",
    "De NOT gate functioneert naar behoren"
   ]
  },
  {
   "cell_type": "markdown",
   "metadata": {},
   "source": [
    "Deze uitkomst tel ik als Correct. Het komt goed in de buurt van de verwachte uitkomst.\n",
    "Door de parameters hoger te maken liggen de uitkomsten verder uit elkaar.\n",
    "\n",
    "Bij sigmoid is een gewogen som van ~6 bijna gelijk aan 1 en ~-6 bijna gelijk aan 0"
   ]
  },
  {
   "attachments": {
    "image.png": {
     "image/png": "[encoded data removed]"
    }
   },
   "cell_type": "markdown",
   "metadata": {},
   "source": [
    "#### AND\n",
    "![image.png](attachment:image.png)\n"
   ]
  },
  {
   "cell_type": "code",
   "execution_count": 7,
   "metadata": {},
   "outputs": [
    {
     "name": "stdout",
     "output_type": "stream",
     "text": [
      "<AND port>\n",
      "- Bias = -1.5\n",
      "- Weights = [1, 1]\n",
      "\n",
      "<Verwachting>\n",
      "             Input  Output\n",
      "0  [False, False]   False\n",
      "1   [False, True]   False\n",
      "2   [True, False]   False\n",
      "3    [True, True]    True\n",
      "\n",
      "<Uitkomst>\n",
      "             Input    Output\n",
      "0  [False, False]  0.182426\n",
      "1   [False, True]  0.377541\n",
      "2   [True, False]  0.377541\n",
      "3    [True, True]  0.622459\n",
      "\n",
      "\n",
      "Error: 0.11522248538141906\n"
     ]
    }
   ],
   "source": [
    "\"\"\"AND Test\"\"\"\n",
    "\n",
    "n_and = Neuron('AND', -1.5, [1, 1])\n",
    "print(n_and)\n",
    "\n",
    "and_expectation = [[[False, False], False], \n",
    "                   [[False, True], False], \n",
    "                   [[True, False], False], \n",
    "                   [[True, True], True]]\n",
    "print_table(and_expectation, 'Verwachting')\n",
    "\n",
    "and_outcome = create_table_data(n_and.activation, and_expectation)\n",
    "\n",
    "\n",
    "print_table(and_outcome,'Uitkomst')\n",
    "\n",
    "n_and.error(and_expectation)\n"
   ]
  },
  {
   "cell_type": "markdown",
   "metadata": {},
   "source": [
    "**Uitkomst**\n",
    "\n",
    "De AND gate functioneert nog niet helemaal naar behoren"
   ]
  },
  {
   "cell_type": "code",
   "execution_count": 8,
   "metadata": {},
   "outputs": [
    {
     "name": "stdout",
     "output_type": "stream",
     "text": [
      "<AND port>\n",
      "- Bias = -12\n",
      "- Weights = [8, 8]\n",
      "\n",
      "<Verwachting>\n",
      "             Input  Output\n",
      "0  [False, False]   False\n",
      "1   [False, True]   False\n",
      "2   [True, False]   False\n",
      "3    [True, True]    True\n",
      "\n",
      "<Uitkomst>\n",
      "             Input    Output\n",
      "0  [False, False]  0.000006\n",
      "1   [False, True]  0.017986\n",
      "2   [True, False]  0.017986\n",
      "3    [True, True]  0.982014\n",
      "\n",
      "\n",
      "Error: 0.00024262782103805154\n"
     ]
    }
   ],
   "source": [
    "\"\"\"AND Test\"\"\"\n",
    "\n",
    "n_and = Neuron('AND', -12, [8, 8])\n",
    "print(n_and)\n",
    "\n",
    "and_expectation = [[[False, False], False], \n",
    "                   [[False, True], False], \n",
    "                   [[True, False], False], \n",
    "                   [[True, True], True]]\n",
    "print_table(and_expectation, 'Verwachting')\n",
    "\n",
    "and_outcome = create_table_data(n_and.activation, and_expectation)\n",
    "\n",
    "\n",
    "print_table(and_outcome,'Uitkomst')\n",
    "\n",
    "n_and.error(and_expectation)\n"
   ]
  },
  {
   "cell_type": "markdown",
   "metadata": {},
   "source": [
    "**Uitkomst**\n",
    "\n",
    "De AND gate functioneert naar behoren"
   ]
  },
  {
   "cell_type": "markdown",
   "metadata": {},
   "source": [
    "De error was in eerste instantie eigenlijk al best goed (0.1) Maar na alle parameters x 3 te doen zit het antwoord nog dichter bij de verwachting."
   ]
  },
  {
   "attachments": {
    "image.png": {
     "image/png": "[encoded data removed]"
    }
   },
   "cell_type": "markdown",
   "metadata": {},
   "source": [
    "#### OR\n",
    "![image.png](attachment:image.png)"
   ]
  },
  {
   "cell_type": "code",
   "execution_count": 9,
   "metadata": {},
   "outputs": [
    {
     "name": "stdout",
     "output_type": "stream",
     "text": [
      "<OR port>\n",
      "- Bias = -0.5\n",
      "- Weights = [0.5, 0.5]\n",
      "\n",
      "<Verwachting>\n",
      "             Input  Output\n",
      "0  [False, False]   False\n",
      "1   [False, True]    True\n",
      "2   [True, False]    True\n",
      "3    [True, True]    True\n",
      "\n",
      "<Uitkomst>\n",
      "             Input    Output\n",
      "0  [False, False]  0.377541\n",
      "1   [False, True]  0.500000\n",
      "2   [True, False]  0.500000\n",
      "3    [True, True]  0.622459\n",
      "\n",
      "\n",
      "Error: 0.19626847829827543\n"
     ]
    }
   ],
   "source": [
    "\"\"\"OR Test\"\"\"\n",
    "\n",
    "n_or = Neuron('OR', -0.5, [0.5, 0.5])\n",
    "print(n_or)\n",
    "\n",
    "or_expectation = [[[False, False], False], \n",
    "                   [[False, True], True], \n",
    "                   [[True, False], True], \n",
    "                   [[True, True], True]]\n",
    "print_table(or_expectation, 'Verwachting')\n",
    "\n",
    "or_outcome = create_table_data(n_or.activation, or_expectation)\n",
    "\n",
    "print_table(or_outcome,'Uitkomst')\n",
    "\n",
    "n_or.error(or_expectation)\n"
   ]
  },
  {
   "cell_type": "markdown",
   "metadata": {},
   "source": [
    "**Uitkomst**\n",
    "\n",
    "De OR gate functioneert nog niet helemaal naar behoren"
   ]
  },
  {
   "cell_type": "code",
   "execution_count": 10,
   "metadata": {},
   "outputs": [
    {
     "name": "stdout",
     "output_type": "stream",
     "text": [
      "<OR port>\n",
      "- Bias = -6\n",
      "- Weights = [12, 12]\n",
      "\n",
      "<Verwachting>\n",
      "             Input  Output\n",
      "0  [False, False]   False\n",
      "1   [False, True]    True\n",
      "2   [True, False]    True\n",
      "3    [True, True]    True\n",
      "\n",
      "<Uitkomst>\n",
      "             Input    Output\n",
      "0  [False, False]  0.002473\n",
      "1   [False, True]  0.997527\n",
      "2   [True, False]  0.997527\n",
      "3    [True, True]  1.000000\n",
      "\n",
      "\n",
      "Error: 4.585398956102585e-06\n"
     ]
    }
   ],
   "source": [
    "\"\"\"OR Test\"\"\"\n",
    "\n",
    "n_or = Neuron('OR', -6, [12, 12])\n",
    "print(n_or)\n",
    "\n",
    "or_expectation = [[[False, False], False], \n",
    "                   [[False, True], True], \n",
    "                   [[True, False], True], \n",
    "                   [[True, True], True]]\n",
    "print_table(or_expectation, 'Verwachting')\n",
    "\n",
    "or_outcome = create_table_data(n_or.activation, or_expectation)\n",
    "\n",
    "print_table(or_outcome,'Uitkomst')\n",
    "\n",
    "n_or.error(or_expectation)\n"
   ]
  },
  {
   "cell_type": "markdown",
   "metadata": {},
   "source": [
    "**Uitkomst**\n",
    "\n",
    "De OR gate functioneert naar behoren"
   ]
  },
  {
   "cell_type": "markdown",
   "metadata": {},
   "source": [
    "Door bij de OR port voor een grote toename bij 1 waarde van True te zorgen resulteert dit in een Altijd hoge gewogen soms wanneer er 1 input True is."
   ]
  },
  {
   "attachments": {
    "image.png": {
     "image/png": "[encoded data removed]"
    }
   },
   "cell_type": "markdown",
   "metadata": {},
   "source": [
    "#### Nor\n",
    "![image.png](attachment:image.png)\n",
    "\n"
   ]
  },
  {
   "cell_type": "code",
   "execution_count": 11,
   "metadata": {},
   "outputs": [
    {
     "name": "stdout",
     "output_type": "stream",
     "text": [
      "<NOR port>\n",
      "- Bias = 0\n",
      "- Weights = [-1, -1, -1]\n",
      "\n",
      "<Verwachting>\n",
      "                    Input  Output\n",
      "0  [False, False, False]    True\n",
      "1   [False, False, True]   False\n",
      "2   [False, True, False]   False\n",
      "3   [True, False, False]   False\n",
      "4    [False, True, True]   False\n",
      "5    [True, True, False]   False\n",
      "6    [True, False, True]   False\n",
      "7     [True, True, True]   False\n",
      "\n",
      "<Uitkomst>\n",
      "                    Input    Output\n",
      "0  [False, False, False]  0.500000\n",
      "1   [False, False, True]  0.268941\n",
      "2   [False, True, False]  0.268941\n",
      "3   [True, False, False]  0.268941\n",
      "4    [False, True, True]  0.119203\n",
      "5    [True, True, False]  0.119203\n",
      "6    [True, False, True]  0.119203\n",
      "7     [True, True, True]  0.047426\n",
      "\n",
      "\n",
      "Error: 0.06398321096100344\n"
     ]
    }
   ],
   "source": [
    "\"\"\"NOR Test\"\"\"\n",
    "\n",
    "n_nor = Neuron('NOR', 0, [-1, -1, -1])\n",
    "print(n_nor)\n",
    "\n",
    "nor_expectation = [[[False, False, False], True], \n",
    "                   [[False, False, True], False], \n",
    "                   [[False, True, False], False], \n",
    "                   [[True, False, False], False],\n",
    "                   [[False, True, True], False], \n",
    "                   [[True, True, False], False],\n",
    "                   [[True, False, True], False], \n",
    "                   [[True, True, True], False]]\n",
    "print_table(nor_expectation, 'Verwachting')\n",
    "\n",
    "nor_outcome = create_table_data(n_nor.activation, nor_expectation)\n",
    "\n",
    "print_table(nor_outcome,'Uitkomst')\n",
    "\n",
    "n_nor.error(nor_expectation)\n"
   ]
  },
  {
   "cell_type": "markdown",
   "metadata": {},
   "source": [
    "**Uitkomst**\n",
    "\n",
    "De NOR gate functioneert nog niet helemaal naar behoren"
   ]
  },
  {
   "cell_type": "code",
   "execution_count": 12,
   "metadata": {},
   "outputs": [
    {
     "name": "stdout",
     "output_type": "stream",
     "text": [
      "<NOR port>\n",
      "- Bias = 6\n",
      "- Weights = [-10, -10, -10]\n",
      "\n",
      "<Verwachting>\n",
      "                    Input  Output\n",
      "0  [False, False, False]    True\n",
      "1   [False, False, True]   False\n",
      "2   [False, True, False]   False\n",
      "3   [True, False, False]   False\n",
      "4    [False, True, True]   False\n",
      "5    [True, True, False]   False\n",
      "6    [True, False, True]   False\n",
      "7     [True, True, True]   False\n",
      "\n",
      "<Uitkomst>\n",
      "                    Input        Output\n",
      "0  [False, False, False]  9.975274e-01\n",
      "1   [False, False, True]  1.798621e-02\n",
      "2   [False, True, False]  1.798621e-02\n",
      "3   [True, False, False]  1.798621e-02\n",
      "4    [False, True, True]  8.315280e-07\n",
      "5    [True, True, False]  8.315280e-07\n",
      "6    [True, False, True]  8.315280e-07\n",
      "7     [True, True, True]  3.775135e-11\n",
      "\n",
      "\n",
      "Error: 0.00012207813921879596\n"
     ]
    }
   ],
   "source": [
    "\"\"\"NOR Test\"\"\"\n",
    "\n",
    "n_nor = Neuron('NOR', 6, [-10, -10, -10])\n",
    "print(n_nor)\n",
    "\n",
    "nor_expectation = [[[False, False, False], True], \n",
    "                   [[False, False, True], False], \n",
    "                   [[False, True, False], False], \n",
    "                   [[True, False, False], False],\n",
    "                   [[False, True, True], False], \n",
    "                   [[True, True, False], False],\n",
    "                   [[True, False, True], False], \n",
    "                   [[True, True, True], False]]\n",
    "print_table(nor_expectation, 'Verwachting')\n",
    "\n",
    "nor_outcome = create_table_data(n_nor.activation, nor_expectation)\n",
    "\n",
    "print_table(nor_outcome,'Uitkomst')\n",
    "\n",
    "n_nor.error(nor_expectation)\n"
   ]
  },
  {
   "cell_type": "markdown",
   "metadata": {},
   "source": [
    "**Uitkomst**\n",
    "\n",
    "De NOR gate functioneert naar behoren"
   ]
  },
  {
   "cell_type": "markdown",
   "metadata": {},
   "source": [
    "Opnieuw, door het verschil tussen True/False groter te maken druk je de uitkomsten verder naar de 1 of 0 toe. "
   ]
  },
  {
   "cell_type": "markdown",
   "metadata": {},
   "source": [
    "## Perceptron netwerk"
   ]
  },
  {
   "attachments": {
    "image.png": {
     "image/png": "[encoded data removed]"
    }
   },
   "cell_type": "markdown",
   "metadata": {},
   "source": [
    "#### Half-adder\n",
    "![image.png](attachment:image.png)"
   ]
  },
  {
   "cell_type": "markdown",
   "metadata": {},
   "source": [
    "Om de half adder te maken heb ik een NAND gate nodig, "
   ]
  },
  {
   "cell_type": "code",
   "execution_count": 13,
   "metadata": {},
   "outputs": [
    {
     "name": "stdout",
     "output_type": "stream",
     "text": [
      "<NAND port>\n",
      "- Bias = 12\n",
      "- Weights = [-8, -8]\n",
      "\n",
      "<Verwachting>\n",
      "             Input  Output\n",
      "0  [False, False]    True\n",
      "1   [False, True]    True\n",
      "2   [True, False]    True\n",
      "3    [True, True]   False\n",
      "\n",
      "<Uitkomst>\n",
      "             Input    Output\n",
      "0  [False, False]  0.999994\n",
      "1   [False, True]  0.982014\n",
      "2   [True, False]  0.982014\n",
      "3    [True, True]  0.017986\n",
      "\n",
      "\n",
      "Error: 0.00024262782103805144\n"
     ]
    }
   ],
   "source": [
    "\"\"\"NAND Test\"\"\"\n",
    "NAND = Neuron('NAND', 12, [-8, -8])\n",
    "print(NAND)\n",
    "\n",
    "NAND_expectation =      [[[False, False], True], \n",
    "                   [[False, True], True], \n",
    "                   [[True, False], True], \n",
    "                   [[True, True], False]]\n",
    "\n",
    "NAND_outcome = create_table_data(NAND.activation, NAND_expectation)\n",
    "\n",
    "print_table(NAND_expectation, 'Verwachting')\n",
    "print_table(NAND_outcome,'Uitkomst')\n",
    "\n",
    "NAND.error(NAND_expectation)\n"
   ]
  },
  {
   "cell_type": "markdown",
   "metadata": {},
   "source": [
    "**Uitkomst**\n",
    "\n",
    "De NAND gate functioneert naar behoren"
   ]
  },
  {
   "cell_type": "code",
   "execution_count": 14,
   "metadata": {},
   "outputs": [
    {
     "name": "stdout",
     "output_type": "stream",
     "text": [
      "----------------------------------------\n",
      "Dit netwerk bestaat uit 2 layers\n",
      "\n",
      "<Verwachting>\n",
      "             Input          Output\n",
      "0  [False, False]  [False, False]\n",
      "1   [False, True]   [True, False]\n",
      "2   [True, False]   [True, False]\n",
      "3    [True, True]   [False, True]\n",
      "\n",
      "<Uitkomst>\n",
      "             Input                                        Output\n",
      "0  [False, False]  [0.01833806257074168, 0.0024728050192708417]\n",
      "1   [False, True]   [0.9788829093087751, 0.0030664441812802163]\n",
      "2   [True, False]   [0.9788829093087751, 0.0030664441812802163]\n",
      "3    [True, True]     [0.02071204244039687, 0.9969335558187198]\n",
      "\n"
     ]
    }
   ],
   "source": [
    "# Laag 1\n",
    "p1 = Neuron('OR', -6, [12, 12]) # Deze geeft alleen de waarde door\n",
    "p2 = Neuron('NAND', 12, [-8, -8])\n",
    "p3 = Neuron('AND', -12, [8, 8])\n",
    "layer1 = NeuronLayer('Layer-1 [Hidden]', [p1, p2, p3])\n",
    "\n",
    "# Laag 2\n",
    "p4 = Neuron('AND', -12, [8, 8, 0])\n",
    "p5 = Neuron('P5', -6, [0, 0, 12])\n",
    "layer2 = NeuronLayer('Layer-2 [Hidden]', [p4, p5])\n",
    "\n",
    "\n",
    "\n",
    "network_adder = NeuronNetwork([layer1, layer2])\n",
    "print(network_adder)\n",
    "    \n",
    "adder_expectation = [[[False, False], [False, False]], \n",
    "                   [[False, True], [True, False]], \n",
    "                   [[True, False], [True, False]], \n",
    "                   [[True, True], [False, True]]]\n",
    "\n",
    "adder_outcome = create_table_data(network_adder.feed_forward, adder_expectation)\n",
    "\n",
    "print_table(adder_expectation, 'Verwachting')\n",
    "print_table(adder_outcome,'Uitkomst')\n"
   ]
  },
  {
   "cell_type": "markdown",
   "metadata": {},
   "source": [
    "**Uitkomst**\n",
    "\n",
    "Het Half adder netwerkt functioneert naar behoren"
   ]
  },
  {
   "cell_type": "code",
   "execution_count": null,
   "metadata": {},
   "outputs": [],
   "source": []
  }
 ],
 "metadata": {
  "kernelspec": {
   "display_name": "Python 3",
   "language": "python",
   "name": "python3"
  },
  "language_info": {
   "codemirror_mode": {
    "name": "ipython",
    "version": 3
   },
   "file_extension": ".py",
   "mimetype": "text/x-python",
   "name": "python",
   "nbconvert_exporter": "python",
   "pygments_lexer": "ipython3",
   "version": "3.8.3"
  }
 },
 "nbformat": 4,
 "nbformat_minor": 4
}
