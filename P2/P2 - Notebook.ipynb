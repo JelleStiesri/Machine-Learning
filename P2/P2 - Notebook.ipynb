{
 "cells": [
  {
   "cell_type": "markdown",
   "metadata": {},
   "source": [
    "#### Imports"
   ]
  },
  {
   "cell_type": "code",
   "execution_count": 37,
   "metadata": {
    "pycharm": {
     "is_executing": false
    }
   },
   "outputs": [],
   "source": [
    "import pandas as pd\n",
    "import random\n",
    "from Perceptron import *\n",
    "\n",
    "random.seed(1755920)"
   ]
  },
  {
   "cell_type": "markdown",
   "metadata": {},
   "source": [
    "#### Maken van een waarheidstabel"
   ]
  },
  {
   "cell_type": "code",
   "execution_count": 38,
   "metadata": {
    "pycharm": {
     "is_executing": false
    }
   },
   "outputs": [],
   "source": [
    "def create_table_data(function, expectations):\n",
    "    \"\"\"Deze functie berekent de uitkomst van een perceptron/netwerk en geeft dit terug in een goed format\"\"\"\n",
    "    data = []\n",
    "\n",
    "    for item in expectations:\n",
    "\n",
    "        output = function(item[0])\n",
    "        data.append([item[0], output])\n",
    "    return data\n"
   ]
  },
  {
   "cell_type": "code",
   "execution_count": 39,
   "metadata": {
    "pycharm": {
     "is_executing": false
    }
   },
   "outputs": [],
   "source": [
    "def print_table(data, caption):\n",
    "    \"\"\"Deze functie print een waarheidstabel\"\"\"\n",
    "\n",
    "    columns = ['Input', 'Output']\n",
    "\n",
    "    df = pd.DataFrame.from_records(data, columns=columns)\n",
    "    print(f'<{caption}>\\n {df}\\n')\n",
    "    "
   ]
  },
  {
   "cell_type": "markdown",
   "metadata": {},
   "source": [
    "#### Uitkomsten testen"
   ]
  },
  {
   "cell_type": "code",
   "execution_count": 40,
   "metadata": {
    "pycharm": {
     "is_executing": false
    }
   },
   "outputs": [],
   "source": [
    "def test_outcome(expectation, outcome):\n",
    "    \"\"\"Deze functie test of de uitkomst van een perceptron/netwerk hetzelfde is als de verwachting.\n",
    "    Ik heb gekozen om dit op deze 'assert' manier te doen omdat deze functie nu makkelijk en flexibel aan te roepen is.\n",
    "    \"\"\"\n",
    "\n",
    "    if expectation == outcome:\n",
    "        print(\"Test geslaagd - Verwachting & uitkomst hetzelfde\")\n",
    "    else:\n",
    "        print('Test mislukt - Verwachting & uitkomst niet hetzelfde')"
   ]
  },
  {
   "cell_type": "markdown",
   "metadata": {},
   "source": [
    "#### Random startwaarden"
   ]
  },
  {
   "cell_type": "code",
   "execution_count": 41,
   "metadata": {
    "pycharm": {
     "is_executing": false
    }
   },
   "outputs": [],
   "source": [
    "def generate_random_float():\n",
    "    return round(random.uniform(-10, 10),1)\n",
    "\n",
    "def generate_random_list(numbers):\n",
    "    lst = []\n",
    "    for item in range(numbers):\n",
    "        lst.append(generate_random_float())\n",
    "    return lst\n"
   ]
  },
  {
   "cell_type": "markdown",
   "metadata": {},
   "source": [
    "## Testen"
   ]
  },
  {
   "attachments": {
    "image.png": {
     "image/png": "[encoded data removed]"
    }
   },
   "cell_type": "markdown",
   "metadata": {},
   "source": [
    "#### AND gate\n",
    "![image.png](attachment:image.png)"
   ]
  },
  {
   "cell_type": "code",
   "execution_count": 42,
   "metadata": {
    "pycharm": {
     "is_executing": false
    }
   },
   "outputs": [
    {
     "name": "stdout",
     "output_type": "stream",
     "text": [
      "<AND port>\n",
      "- Bias = -5.0\n",
      "- Weights = [-10.0, -0.5]\n",
      "\n",
      "<Verwachting>\n",
      "             Input  Output\n",
      "0  [False, False]   False\n",
      "1   [False, True]   False\n",
      "2   [True, False]   False\n",
      "3    [True, True]    True\n",
      "\n",
      "<Uitkomst>\n",
      "             Input  Output\n",
      "0  [False, False]   False\n",
      "1   [False, True]   False\n",
      "2   [True, False]   False\n",
      "3    [True, True]   False\n",
      "\n",
      "Test mislukt - Verwachting & uitkomst niet hetzelfde\n",
      "Error = 0.25\n",
      "======================\n",
      "UPDATE\n",
      "\n",
      "<AND port>\n",
      "- Bias = -2.300000000000002\n",
      "- Weights = [0.19999999999998122, 2.2000000000000006]\n",
      "\n",
      "<Uitkomst>\n",
      "             Input  Output\n",
      "0  [False, False]   False\n",
      "1   [False, True]   False\n",
      "2   [True, False]   False\n",
      "3    [True, True]    True\n",
      "\n",
      "Test geslaagd - Verwachting & uitkomst hetzelfde\n",
      "Error = 0.0\n",
      "======================\n"
     ]
    }
   ],
   "source": [
    "AND = Perceptron('AND', generate_random_float(), generate_random_list(2))\n",
    "print(AND)\n",
    "\n",
    "expectations = [[[False, False], False],\n",
    "                [[False, True], False],\n",
    "                [[True, False], False],\n",
    "                [[True, True], True]]\n",
    "print_table(expectations, 'Verwachting')\n",
    "\n",
    "output = create_table_data(AND.activation, expectations)\n",
    "print_table(output, 'Uitkomst')\n",
    "test_outcome(expectations, output)\n",
    "print(f'Error = {AND.error(expectations)}\\n======================\\nUPDATE\\n')\n",
    "\n",
    "AND.update(expectations, 500)\n",
    "print(AND)\n",
    "updated_output = create_table_data(AND.activation, expectations)\n",
    "print_table(updated_output, 'Uitkomst')\n",
    "test_outcome(expectations, updated_output)\n",
    "print(f'Error = {AND.error(expectations)}\\n======================')"
   ]
  },
  {
   "cell_type": "markdown",
   "metadata": {},
   "source": [
    "Uitkomst: AND port is goed te maken met de Perceptron learning rule"
   ]
  },
  {
   "attachments": {
    "image.png": {
     "image/png": "[encoded data removed]"
    }
   },
   "cell_type": "markdown",
   "metadata": {},
   "source": [
    "#### XOR gate\n",
    "![image.png](attachment:image.png)\n",
    "\n",
    "\n"
   ]
  },
  {
   "attachments": {
    "image.png": {
     "image/png": "[encoded data removed]"
    }
   },
   "cell_type": "markdown",
   "metadata": {},
   "source": [
    "![image.png](attachment:image.png)\n",
    "\n",
    "(Niet linear scheidbaar)"
   ]
  },
  {
   "cell_type": "code",
   "execution_count": 43,
   "metadata": {
    "pycharm": {
     "is_executing": false
    }
   },
   "outputs": [
    {
     "name": "stdout",
     "output_type": "stream",
     "text": [
      "<XOR port>\n",
      "- Bias = 1.6\n",
      "- Weights = [-1.6, 9.1]\n",
      "\n",
      "<Verwachting>\n",
      "             Input  Output\n",
      "0  [False, False]   False\n",
      "1   [False, True]    True\n",
      "2   [True, False]    True\n",
      "3    [True, True]   False\n",
      "\n",
      "<Uitkomst>\n",
      "             Input  Output\n",
      "0  [False, False]    True\n",
      "1   [False, True]    True\n",
      "2   [True, False]    True\n",
      "3    [True, True]    True\n",
      "\n",
      "Test mislukt - Verwachting & uitkomst niet hetzelfde\n",
      "Error = 0.5\n",
      "======================\n",
      "UPDATE\n",
      "\n",
      "<XOR port>\n",
      "- Bias = 0.09999999999999981\n",
      "- Weights = [-0.19999999999999982, -0.09999999999998477]\n",
      "\n",
      "<Uitkomst>\n",
      "             Input  Output\n",
      "0  [False, False]    True\n",
      "1   [False, True]    True\n",
      "2   [True, False]   False\n",
      "3    [True, True]   False\n",
      "\n",
      "Test mislukt - Verwachting & uitkomst niet hetzelfde\n",
      "Error = 0.5\n",
      "======================\n"
     ]
    }
   ],
   "source": [
    "XOR = Perceptron('XOR', generate_random_float(), generate_random_list(2))\n",
    "print(XOR)\n",
    "\n",
    "expectations = [[[False, False], False],\n",
    "                [[False, True], True],\n",
    "                [[True, False], True],\n",
    "                [[True, True], False]]\n",
    "print_table(expectations, 'Verwachting')\n",
    "\n",
    "output = create_table_data(XOR.activation, expectations)\n",
    "print_table(output, 'Uitkomst')\n",
    "test_outcome(expectations, output)\n",
    "print(f'Error = {XOR.error(expectations)}\\n======================\\nUPDATE\\n')\n",
    "\n",
    "XOR.update(expectations, 5000)\n",
    "print(XOR)\n",
    "updated_output = create_table_data(XOR.activation, expectations)\n",
    "print_table(updated_output, 'Uitkomst')\n",
    "test_outcome(expectations, updated_output)\n",
    "print(f'Error = {XOR.error(expectations)}\\n======================')"
   ]
  },
  {
   "cell_type": "markdown",
   "metadata": {},
   "source": [
    "Uitkomst: XOR port is niet met 1 perceptron te maken, dit komt omdat het niet linear scheidbaar is."
   ]
  },
  {
   "cell_type": "markdown",
   "metadata": {},
   "source": [
    "## IRIS dataset\n"
   ]
  },
  {
   "cell_type": "markdown",
   "metadata": {},
   "source": [
    "### Setosa & Versicolour\n",
    "Classificeer eerst alleen de types Setosa en Versicolour. Wat zijn de uiteindelijke parameters van de perceptron?"
   ]
  },
  {
   "cell_type": "code",
   "execution_count": 44,
   "metadata": {
    "pycharm": {
     "is_executing": false
    }
   },
   "outputs": [],
   "source": [
    "from sklearn.datasets import load_iris\n",
    "\n",
    "data = load_iris()"
   ]
  },
  {
   "cell_type": "code",
   "execution_count": 45,
   "metadata": {
    "pycharm": {
     "is_executing": false
    }
   },
   "outputs": [
    {
     "data": {
      "text/plain": [
       "[[[5.1, 3.5, 1.4, 0.2], 0],\n",
       " [[4.9, 3.0, 1.4, 0.2], 0],\n",
       " [[4.7, 3.2, 1.3, 0.2], 0],\n",
       " [[4.6, 3.1, 1.5, 0.2], 0],\n",
       " [[5.0, 3.6, 1.4, 0.2], 0],\n",
       " [[5.4, 3.9, 1.7, 0.4], 0],\n",
       " [[4.6, 3.4, 1.4, 0.3], 0],\n",
       " [[5.0, 3.4, 1.5, 0.2], 0],\n",
       " [[4.4, 2.9, 1.4, 0.2], 0],\n",
       " [[4.9, 3.1, 1.5, 0.1], 0]]"
      ]
     },
     "execution_count": 45,
     "metadata": {},
     "output_type": "execute_result"
    }
   ],
   "source": [
    "\"\"\"We mogen helaas geen pandas gebruiken, daarop selecteren we iets knullig de juiste rijen\"\"\"\n",
    "\n",
    "set_ver_features = data['data'][:100]\n",
    "set_ver_targets = data['target'][:100]\n",
    "\n",
    "iris_data_2 = []\n",
    "for index in range(len(set_ver_features)):\n",
    "    iris_data_2.append([list(set_ver_features[index]), set_ver_targets[index]])\n",
    "iris_data_2[:10]"
   ]
  },
  {
   "cell_type": "code",
   "execution_count": 46,
   "metadata": {
    "pycharm": {
     "is_executing": false
    },
    "scrolled": false
   },
   "outputs": [
    {
     "name": "stdout",
     "output_type": "stream",
     "text": [
      "<IRIS2 port>\n",
      "- Bias = -5.1\n",
      "- Weights = [4.4, 9.5, 9.7, 0.3]\n",
      "\n",
      "<Verwachting>\n",
      "                    Input  Output\n",
      "0   [5.1, 3.5, 1.4, 0.2]       0\n",
      "1   [4.9, 3.0, 1.4, 0.2]       0\n",
      "2   [4.7, 3.2, 1.3, 0.2]       0\n",
      "3   [4.6, 3.1, 1.5, 0.2]       0\n",
      "4   [5.0, 3.6, 1.4, 0.2]       0\n",
      "..                   ...     ...\n",
      "95  [5.7, 3.0, 4.2, 1.2]       1\n",
      "96  [5.7, 2.9, 4.2, 1.3]       1\n",
      "97  [6.2, 2.9, 4.3, 1.3]       1\n",
      "98  [5.1, 2.5, 3.0, 1.1]       1\n",
      "99  [5.7, 2.8, 4.1, 1.3]       1\n",
      "\n",
      "[100 rows x 2 columns]\n",
      "\n",
      "<Uitkomst>\n",
      "                    Input  Output\n",
      "0   [5.1, 3.5, 1.4, 0.2]    True\n",
      "1   [4.9, 3.0, 1.4, 0.2]    True\n",
      "2   [4.7, 3.2, 1.3, 0.2]    True\n",
      "3   [4.6, 3.1, 1.5, 0.2]    True\n",
      "4   [5.0, 3.6, 1.4, 0.2]    True\n",
      "..                   ...     ...\n",
      "95  [5.7, 3.0, 4.2, 1.2]    True\n",
      "96  [5.7, 2.9, 4.2, 1.3]    True\n",
      "97  [6.2, 2.9, 4.3, 1.3]    True\n",
      "98  [5.1, 2.5, 3.0, 1.1]    True\n",
      "99  [5.7, 2.8, 4.1, 1.3]    True\n",
      "\n",
      "[100 rows x 2 columns]\n",
      "\n",
      "Test mislukt - Verwachting & uitkomst niet hetzelfde\n",
      "Error = 0.5\n",
      "======================\n",
      "\n",
      "\n",
      "UPDATED\n",
      "<IRIS2 port>\n",
      "- Bias = -6.799999999999994\n",
      "- Weights = [-4.11, 3.6599999999999993, 7.249999999999994, -0.07000000000000015]\n",
      "\n",
      "<Uitkomst>\n",
      "                    Input  Output\n",
      "0   [5.1, 3.5, 1.4, 0.2]   False\n",
      "1   [4.9, 3.0, 1.4, 0.2]   False\n",
      "2   [4.7, 3.2, 1.3, 0.2]   False\n",
      "3   [4.6, 3.1, 1.5, 0.2]   False\n",
      "4   [5.0, 3.6, 1.4, 0.2]   False\n",
      "..                   ...     ...\n",
      "95  [5.7, 3.0, 4.2, 1.2]    True\n",
      "96  [5.7, 2.9, 4.2, 1.3]    True\n",
      "97  [6.2, 2.9, 4.3, 1.3]    True\n",
      "98  [5.1, 2.5, 3.0, 1.1]    True\n",
      "99  [5.7, 2.8, 4.1, 1.3]    True\n",
      "\n",
      "[100 rows x 2 columns]\n",
      "\n",
      "Test geslaagd - Verwachting & uitkomst hetzelfde\n",
      "Error = 0.0\n",
      "======================\n"
     ]
    }
   ],
   "source": [
    "\"\"\"Perceptron aanmaken\"\"\"\n",
    "IRIS2 = Perceptron('IRIS2', generate_random_float(), generate_random_list(len(iris_data_2[0][0])))\n",
    "print(IRIS2)\n",
    "\n",
    "print_table(iris_data_2, 'Verwachting')\n",
    "\n",
    "output = create_table_data(IRIS2.activation, iris_data_2)\n",
    "print_table(output, 'Uitkomst')\n",
    "\n",
    "\"\"\"Error berekenen van ongetrainde perceptron\"\"\"\n",
    "test_outcome(iris_data_2, output)\n",
    "print(f'Error = {IRIS2.error(iris_data_2)}\\n======================\\n\\n')\n",
    "\n",
    "\"\"\"Perceptron trainen/updaten\"\"\"\n",
    "IRIS2.update(iris_data_2, 5000)\n",
    "print(f'UPDATED\\n{IRIS2}')\n",
    "updated_output = create_table_data(IRIS2.activation, iris_data_2)\n",
    "print_table(updated_output, 'Uitkomst')\n",
    "\n",
    "\"\"\"Error berekenen van getrainde perceptron\"\"\"\n",
    "test_outcome(iris_data_2, updated_output)\n",
    "print(f'Error = {IRIS2.error(iris_data_2)}\\n======================')"
   ]
  },
  {
   "cell_type": "markdown",
   "metadata": {},
   "source": [
    "### Setosa & Versicolour & Verginica (3 Types)\n",
    "Classificeer daarna alle drie de types, dus ook Verginica. Wat zijn de uiteindelijke parameters van de perceptron?"
   ]
  },
  {
   "cell_type": "code",
   "execution_count": 47,
   "metadata": {
    "pycharm": {
     "is_executing": false
    }
   },
   "outputs": [
    {
     "data": {
      "text/plain": [
       "[[[5.1, 3.5, 1.4, 0.2], 0],\n",
       " [[4.9, 3.0, 1.4, 0.2], 0],\n",
       " [[4.7, 3.2, 1.3, 0.2], 0],\n",
       " [[4.6, 3.1, 1.5, 0.2], 0],\n",
       " [[5.0, 3.6, 1.4, 0.2], 0],\n",
       " [[5.4, 3.9, 1.7, 0.4], 0],\n",
       " [[4.6, 3.4, 1.4, 0.3], 0],\n",
       " [[5.0, 3.4, 1.5, 0.2], 0],\n",
       " [[4.4, 2.9, 1.4, 0.2], 0],\n",
       " [[4.9, 3.1, 1.5, 0.1], 0],\n",
       " [[5.4, 3.7, 1.5, 0.2], 0],\n",
       " [[4.8, 3.4, 1.6, 0.2], 0],\n",
       " [[4.8, 3.0, 1.4, 0.1], 0],\n",
       " [[4.3, 3.0, 1.1, 0.1], 0],\n",
       " [[5.8, 4.0, 1.2, 0.2], 0],\n",
       " [[5.7, 4.4, 1.5, 0.4], 0],\n",
       " [[5.4, 3.9, 1.3, 0.4], 0],\n",
       " [[5.1, 3.5, 1.4, 0.3], 0],\n",
       " [[5.7, 3.8, 1.7, 0.3], 0],\n",
       " [[5.1, 3.8, 1.5, 0.3], 0],\n",
       " [[5.4, 3.4, 1.7, 0.2], 0],\n",
       " [[5.1, 3.7, 1.5, 0.4], 0],\n",
       " [[4.6, 3.6, 1.0, 0.2], 0],\n",
       " [[5.1, 3.3, 1.7, 0.5], 0],\n",
       " [[4.8, 3.4, 1.9, 0.2], 0],\n",
       " [[5.0, 3.0, 1.6, 0.2], 0],\n",
       " [[5.0, 3.4, 1.6, 0.4], 0],\n",
       " [[5.2, 3.5, 1.5, 0.2], 0],\n",
       " [[5.2, 3.4, 1.4, 0.2], 0],\n",
       " [[4.7, 3.2, 1.6, 0.2], 0],\n",
       " [[4.8, 3.1, 1.6, 0.2], 0],\n",
       " [[5.4, 3.4, 1.5, 0.4], 0],\n",
       " [[5.2, 4.1, 1.5, 0.1], 0],\n",
       " [[5.5, 4.2, 1.4, 0.2], 0],\n",
       " [[4.9, 3.1, 1.5, 0.2], 0],\n",
       " [[5.0, 3.2, 1.2, 0.2], 0],\n",
       " [[5.5, 3.5, 1.3, 0.2], 0],\n",
       " [[4.9, 3.6, 1.4, 0.1], 0],\n",
       " [[4.4, 3.0, 1.3, 0.2], 0],\n",
       " [[5.1, 3.4, 1.5, 0.2], 0],\n",
       " [[5.0, 3.5, 1.3, 0.3], 0],\n",
       " [[4.5, 2.3, 1.3, 0.3], 0],\n",
       " [[4.4, 3.2, 1.3, 0.2], 0],\n",
       " [[5.0, 3.5, 1.6, 0.6], 0],\n",
       " [[5.1, 3.8, 1.9, 0.4], 0],\n",
       " [[4.8, 3.0, 1.4, 0.3], 0],\n",
       " [[5.1, 3.8, 1.6, 0.2], 0],\n",
       " [[4.6, 3.2, 1.4, 0.2], 0],\n",
       " [[5.3, 3.7, 1.5, 0.2], 0],\n",
       " [[5.0, 3.3, 1.4, 0.2], 0],\n",
       " [[7.0, 3.2, 4.7, 1.4], 1],\n",
       " [[6.4, 3.2, 4.5, 1.5], 1],\n",
       " [[6.9, 3.1, 4.9, 1.5], 1],\n",
       " [[5.5, 2.3, 4.0, 1.3], 1],\n",
       " [[6.5, 2.8, 4.6, 1.5], 1],\n",
       " [[5.7, 2.8, 4.5, 1.3], 1],\n",
       " [[6.3, 3.3, 4.7, 1.6], 1],\n",
       " [[4.9, 2.4, 3.3, 1.0], 1],\n",
       " [[6.6, 2.9, 4.6, 1.3], 1],\n",
       " [[5.2, 2.7, 3.9, 1.4], 1],\n",
       " [[5.0, 2.0, 3.5, 1.0], 1],\n",
       " [[5.9, 3.0, 4.2, 1.5], 1],\n",
       " [[6.0, 2.2, 4.0, 1.0], 1],\n",
       " [[6.1, 2.9, 4.7, 1.4], 1],\n",
       " [[5.6, 2.9, 3.6, 1.3], 1],\n",
       " [[6.7, 3.1, 4.4, 1.4], 1],\n",
       " [[5.6, 3.0, 4.5, 1.5], 1],\n",
       " [[5.8, 2.7, 4.1, 1.0], 1],\n",
       " [[6.2, 2.2, 4.5, 1.5], 1],\n",
       " [[5.6, 2.5, 3.9, 1.1], 1],\n",
       " [[5.9, 3.2, 4.8, 1.8], 1],\n",
       " [[6.1, 2.8, 4.0, 1.3], 1],\n",
       " [[6.3, 2.5, 4.9, 1.5], 1],\n",
       " [[6.1, 2.8, 4.7, 1.2], 1],\n",
       " [[6.4, 2.9, 4.3, 1.3], 1],\n",
       " [[6.6, 3.0, 4.4, 1.4], 1],\n",
       " [[6.8, 2.8, 4.8, 1.4], 1],\n",
       " [[6.7, 3.0, 5.0, 1.7], 1],\n",
       " [[6.0, 2.9, 4.5, 1.5], 1],\n",
       " [[5.7, 2.6, 3.5, 1.0], 1],\n",
       " [[5.5, 2.4, 3.8, 1.1], 1],\n",
       " [[5.5, 2.4, 3.7, 1.0], 1],\n",
       " [[5.8, 2.7, 3.9, 1.2], 1],\n",
       " [[6.0, 2.7, 5.1, 1.6], 1],\n",
       " [[5.4, 3.0, 4.5, 1.5], 1],\n",
       " [[6.0, 3.4, 4.5, 1.6], 1],\n",
       " [[6.7, 3.1, 4.7, 1.5], 1],\n",
       " [[6.3, 2.3, 4.4, 1.3], 1],\n",
       " [[5.6, 3.0, 4.1, 1.3], 1],\n",
       " [[5.5, 2.5, 4.0, 1.3], 1],\n",
       " [[5.5, 2.6, 4.4, 1.2], 1],\n",
       " [[6.1, 3.0, 4.6, 1.4], 1],\n",
       " [[5.8, 2.6, 4.0, 1.2], 1],\n",
       " [[5.0, 2.3, 3.3, 1.0], 1],\n",
       " [[5.6, 2.7, 4.2, 1.3], 1],\n",
       " [[5.7, 3.0, 4.2, 1.2], 1],\n",
       " [[5.7, 2.9, 4.2, 1.3], 1],\n",
       " [[6.2, 2.9, 4.3, 1.3], 1],\n",
       " [[5.1, 2.5, 3.0, 1.1], 1],\n",
       " [[5.7, 2.8, 4.1, 1.3], 1],\n",
       " [[6.3, 3.3, 6.0, 2.5], 2],\n",
       " [[5.8, 2.7, 5.1, 1.9], 2],\n",
       " [[7.1, 3.0, 5.9, 2.1], 2],\n",
       " [[6.3, 2.9, 5.6, 1.8], 2],\n",
       " [[6.5, 3.0, 5.8, 2.2], 2],\n",
       " [[7.6, 3.0, 6.6, 2.1], 2],\n",
       " [[4.9, 2.5, 4.5, 1.7], 2],\n",
       " [[7.3, 2.9, 6.3, 1.8], 2],\n",
       " [[6.7, 2.5, 5.8, 1.8], 2],\n",
       " [[7.2, 3.6, 6.1, 2.5], 2],\n",
       " [[6.5, 3.2, 5.1, 2.0], 2],\n",
       " [[6.4, 2.7, 5.3, 1.9], 2],\n",
       " [[6.8, 3.0, 5.5, 2.1], 2],\n",
       " [[5.7, 2.5, 5.0, 2.0], 2],\n",
       " [[5.8, 2.8, 5.1, 2.4], 2],\n",
       " [[6.4, 3.2, 5.3, 2.3], 2],\n",
       " [[6.5, 3.0, 5.5, 1.8], 2],\n",
       " [[7.7, 3.8, 6.7, 2.2], 2],\n",
       " [[7.7, 2.6, 6.9, 2.3], 2],\n",
       " [[6.0, 2.2, 5.0, 1.5], 2],\n",
       " [[6.9, 3.2, 5.7, 2.3], 2],\n",
       " [[5.6, 2.8, 4.9, 2.0], 2],\n",
       " [[7.7, 2.8, 6.7, 2.0], 2],\n",
       " [[6.3, 2.7, 4.9, 1.8], 2],\n",
       " [[6.7, 3.3, 5.7, 2.1], 2],\n",
       " [[7.2, 3.2, 6.0, 1.8], 2],\n",
       " [[6.2, 2.8, 4.8, 1.8], 2],\n",
       " [[6.1, 3.0, 4.9, 1.8], 2],\n",
       " [[6.4, 2.8, 5.6, 2.1], 2],\n",
       " [[7.2, 3.0, 5.8, 1.6], 2],\n",
       " [[7.4, 2.8, 6.1, 1.9], 2],\n",
       " [[7.9, 3.8, 6.4, 2.0], 2],\n",
       " [[6.4, 2.8, 5.6, 2.2], 2],\n",
       " [[6.3, 2.8, 5.1, 1.5], 2],\n",
       " [[6.1, 2.6, 5.6, 1.4], 2],\n",
       " [[7.7, 3.0, 6.1, 2.3], 2],\n",
       " [[6.3, 3.4, 5.6, 2.4], 2],\n",
       " [[6.4, 3.1, 5.5, 1.8], 2],\n",
       " [[6.0, 3.0, 4.8, 1.8], 2],\n",
       " [[6.9, 3.1, 5.4, 2.1], 2],\n",
       " [[6.7, 3.1, 5.6, 2.4], 2],\n",
       " [[6.9, 3.1, 5.1, 2.3], 2],\n",
       " [[5.8, 2.7, 5.1, 1.9], 2],\n",
       " [[6.8, 3.2, 5.9, 2.3], 2],\n",
       " [[6.7, 3.3, 5.7, 2.5], 2],\n",
       " [[6.7, 3.0, 5.2, 2.3], 2],\n",
       " [[6.3, 2.5, 5.0, 1.9], 2],\n",
       " [[6.5, 3.0, 5.2, 2.0], 2],\n",
       " [[6.2, 3.4, 5.4, 2.3], 2],\n",
       " [[5.9, 3.0, 5.1, 1.8], 2]]"
      ]
     },
     "execution_count": 47,
     "metadata": {},
     "output_type": "execute_result"
    }
   ],
   "source": [
    "set_ver_ver_features = data['data']\n",
    "set_ver_ver_targets = data['target']\n",
    "\n",
    "# Dataset\n",
    "iris_data_3 = []\n",
    "for index in range(len(set_ver_ver_features)):\n",
    "    iris_data_3.append([list(set_ver_ver_features[index]), set_ver_ver_targets[index]])\n",
    "iris_data_3"
   ]
  },
  {
   "cell_type": "code",
   "execution_count": 48,
   "metadata": {
    "pycharm": {
     "is_executing": false
    }
   },
   "outputs": [
    {
     "name": "stdout",
     "output_type": "stream",
     "text": [
      "<IRIS3 port>\n",
      "- Bias = -3.2\n",
      "- Weights = [6.3, 6.5, -7.2, 7.7]\n",
      "\n",
      "<Verwachting>\n",
      "                     Input  Output\n",
      "0    [5.1, 3.5, 1.4, 0.2]       0\n",
      "1    [4.9, 3.0, 1.4, 0.2]       0\n",
      "2    [4.7, 3.2, 1.3, 0.2]       0\n",
      "3    [4.6, 3.1, 1.5, 0.2]       0\n",
      "4    [5.0, 3.6, 1.4, 0.2]       0\n",
      "..                    ...     ...\n",
      "145  [6.7, 3.0, 5.2, 2.3]       2\n",
      "146  [6.3, 2.5, 5.0, 1.9]       2\n",
      "147  [6.5, 3.0, 5.2, 2.0]       2\n",
      "148  [6.2, 3.4, 5.4, 2.3]       2\n",
      "149  [5.9, 3.0, 5.1, 1.8]       2\n",
      "\n",
      "[150 rows x 2 columns]\n",
      "\n",
      "<Uitkomst>\n",
      "                     Input  Output\n",
      "0    [5.1, 3.5, 1.4, 0.2]    True\n",
      "1    [4.9, 3.0, 1.4, 0.2]    True\n",
      "2    [4.7, 3.2, 1.3, 0.2]    True\n",
      "3    [4.6, 3.1, 1.5, 0.2]    True\n",
      "4    [5.0, 3.6, 1.4, 0.2]    True\n",
      "..                    ...     ...\n",
      "145  [6.7, 3.0, 5.2, 2.3]    True\n",
      "146  [6.3, 2.5, 5.0, 1.9]    True\n",
      "147  [6.5, 3.0, 5.2, 2.0]    True\n",
      "148  [6.2, 3.4, 5.4, 2.3]    True\n",
      "149  [5.9, 3.0, 5.1, 1.8]    True\n",
      "\n",
      "[150 rows x 2 columns]\n",
      "\n",
      "Test mislukt - Verwachting & uitkomst niet hetzelfde\n",
      "Error = 0.6666666666666666\n",
      "======================\n",
      "\n",
      "\n",
      "UPDATED\n",
      "<IRIS3 port>\n",
      "- Bias = 1.1000000000000016\n",
      "- Weights = [39578.53999998482, -11328.979999999421, 102250.67000000895, 44509.360000100474]\n",
      "\n",
      "<Uitkomst>\n",
      "                     Input  Output\n",
      "0    [5.1, 3.5, 1.4, 0.2]    True\n",
      "1    [4.9, 3.0, 1.4, 0.2]    True\n",
      "2    [4.7, 3.2, 1.3, 0.2]    True\n",
      "3    [4.6, 3.1, 1.5, 0.2]    True\n",
      "4    [5.0, 3.6, 1.4, 0.2]    True\n",
      "..                    ...     ...\n",
      "145  [6.7, 3.0, 5.2, 2.3]    True\n",
      "146  [6.3, 2.5, 5.0, 1.9]    True\n",
      "147  [6.5, 3.0, 5.2, 2.0]    True\n",
      "148  [6.2, 3.4, 5.4, 2.3]    True\n",
      "149  [5.9, 3.0, 5.1, 1.8]    True\n",
      "\n",
      "[150 rows x 2 columns]\n",
      "\n",
      "Test mislukt - Verwachting & uitkomst niet hetzelfde\n",
      "Error = 0.6666666666666666\n",
      "======================\n"
     ]
    }
   ],
   "source": [
    "\"\"\"Perceptron aanmaken\"\"\"\n",
    "IRIS3 = Perceptron('IRIS3', generate_random_float(), generate_random_list(len(iris_data_3[0][0])))\n",
    "print(IRIS3)\n",
    "\n",
    "print_table(iris_data_3, 'Verwachting')\n",
    "\n",
    "output = create_table_data(IRIS3.activation, iris_data_3)\n",
    "print_table(output, 'Uitkomst')\n",
    "\n",
    "\"\"\"Error berekenen van ongetrainde perceptron\"\"\"\n",
    "test_outcome(iris_data_3, output)\n",
    "print(f'Error = {IRIS3.error(iris_data_3)}\\n======================\\n\\n')\n",
    "\n",
    "\"\"\"Perceptron trainen/updaten\"\"\"\n",
    "IRIS3.update(iris_data_3, 5000)\n",
    "print(f'UPDATED\\n{IRIS3}')\n",
    "updated_output = create_table_data(IRIS3.activation, iris_data_3)\n",
    "print_table(updated_output, 'Uitkomst')\n",
    "\n",
    "\"\"\"Error berekenen van getrainde perceptron\"\"\"\n",
    "test_outcome(iris_data_3, updated_output)\n",
    "print(f'Error = {IRIS3.error(iris_data_3)}\\n======================')"
   ]
  },
  {
   "cell_type": "markdown",
   "metadata": {},
   "source": [
    "### Uitkomst\n",
    "\n",
    "Uiteindelijk zijn de uitkomsten voor 33.3% goed. Aan de output te zien heeft elke input een uiteindelijke uitput van True. Aan de Weights valt ook iets op, deze zijn heel erg hoog. De beredenatie is simpel. De enige uitkomsten die een Perceptron kan geven zijn Waar of Onwaar (1 of 0). Dit zijn dus 2 opties. door het toevoegen van een 3e optie heb ik het onmogelijk gemaakt om een goed model te maken (want de uitkomst kan nooit 2 zijn bijvoorbeeld). Omdat het niet mogelijk is om de weights zo bij te stellen dat de uitkomst goed is blijft deze maar omhoog gaan en klopt er uiteindelijk eigenlijk helemaal niks van! "
   ]
  },
  {
   "cell_type": "code",
   "execution_count": null,
   "metadata": {
    "pycharm": {
     "is_executing": false
    }
   },
   "outputs": [],
   "source": []
  }
 ],
 "metadata": {
  "kernelspec": {
   "display_name": "Python 3",
   "language": "python",
   "name": "python3"
  },
  "language_info": {
   "codemirror_mode": {
    "name": "ipython",
    "version": 3
   },
   "file_extension": ".py",
   "mimetype": "text/x-python",
   "name": "python",
   "nbconvert_exporter": "python",
   "pygments_lexer": "ipython3",
   "version": "3.8.3"
  }
 },
 "nbformat": 4,
 "nbformat_minor": 4
}
