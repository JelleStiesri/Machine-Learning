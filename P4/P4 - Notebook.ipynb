{
 "cells": [
  {
   "cell_type": "markdown",
   "metadata": {},
   "source": [
    "#### Imports"
   ]
  },
  {
   "cell_type": "code",
   "execution_count": 1,
   "metadata": {},
   "outputs": [],
   "source": [
    "from Neuron import *\n",
    "from NeuronLayer import *\n",
    "from NeuronNetwork import *\n",
    "import random\n",
    "import pandas as pd"
   ]
  },
  {
   "cell_type": "markdown",
   "metadata": {},
   "source": [
    "#### Maken van een waarheidstabel"
   ]
  },
  {
   "cell_type": "code",
   "execution_count": 2,
   "metadata": {},
   "outputs": [],
   "source": [
    "def create_table_data(function, expectations):\n",
    "    \"\"\"Deze functie berekent de uitkomst van een perceptron/netwerk en geeft dit terug in een goed format\"\"\"\n",
    "    data = []\n",
    "\n",
    "    for item in expectations:\n",
    "        output = function(item[0])\n",
    "        data.append([item[0], output])\n",
    "    return data\n"
   ]
  },
  {
   "cell_type": "code",
   "execution_count": 3,
   "metadata": {},
   "outputs": [],
   "source": [
    "def print_table(data, caption):\n",
    "    \"\"\"Deze functie print een waarheidstabel\"\"\"\n",
    "\n",
    "    columns = ['Input', 'Output']\n",
    "\n",
    "    df = pd.DataFrame.from_records(data, columns=columns)\n",
    "    print(f'<{caption}>\\n {df}\\n')\n",
    "    "
   ]
  },
  {
   "cell_type": "markdown",
   "metadata": {},
   "source": [
    "#### Random startwaarden"
   ]
  },
  {
   "cell_type": "code",
   "execution_count": 4,
   "metadata": {},
   "outputs": [],
   "source": [
    "def generate_random_float():\n",
    "    return round(random.uniform(-10, 10),1)\n",
    "\n",
    "def generate_random_list(numbers):\n",
    "    lst = []\n",
    "    for item in range(numbers):\n",
    "        lst.append(generate_random_float())\n",
    "    return lst"
   ]
  },
  {
   "cell_type": "markdown",
   "metadata": {},
   "source": [
    "## Perceptron unit\n"
   ]
  },
  {
   "attachments": {
    "image.png": {
     "image/png": "[encoded data removed]"
    }
   },
   "cell_type": "markdown",
   "metadata": {},
   "source": [
    "#### AND\n",
    "![image.png](attachment:image.png)\n"
   ]
  },
  {
   "cell_type": "code",
   "execution_count": 9,
   "metadata": {},
   "outputs": [
    {
     "name": "stdout",
     "output_type": "stream",
     "text": [
      "<AND port>\n",
      "- Bias = -1.2\n",
      "- Weights = [0.5, 0.1]\n",
      "\n",
      "<Verwachting>\n",
      "             Input  Output\n",
      "0  [False, False]   False\n",
      "1   [False, True]   False\n",
      "2   [True, False]   False\n",
      "3    [True, True]    True\n",
      "\n",
      "<Uitkomst VOOR training>\n",
      "             Input    Output\n",
      "0  [False, False]  0.231475\n",
      "1   [False, True]  0.249740\n",
      "2   [True, False]  0.331812\n",
      "3    [True, True]  0.354344\n",
      "\n",
      "<Uitkomst Na Training>\n",
      "             Input    Output\n",
      "0  [False, False]  0.000171\n",
      "1   [False, True]  0.050673\n",
      "2   [True, False]  0.050997\n",
      "3    [True, True]  0.943759\n",
      "\n",
      "<AND port>\n",
      "- Bias = -8.674244543082525\n",
      "- Weights = [5.7505896541031865, 5.743885645265981]\n",
      "\n"
     ]
    }
   ],
   "source": [
    "\"\"\"AND Test\"\"\"\n",
    "\n",
    "# n_and = Neuron('AND', generate_random_float(), generate_random_list(2))\n",
    "n_and = Neuron('AND', -1.2, [0.5, 0.1])\n",
    "print(n_and)\n",
    "\n",
    "and_expectation = [[[False, False], False],  \n",
    "                   [[False, True], False], \n",
    "                   [[True, False], False], \n",
    "                   [[True, True], True]]\n",
    "print_table(and_expectation, 'Verwachting')\n",
    "\n",
    "old_output = create_table_data(n_and.activation, and_expectation)\n",
    "print_table(old_output, 'Uitkomst VOOR training')\n",
    "\n",
    "for i in range(100):\n",
    "    random.shuffle(and_expectation)\n",
    "    for input_list, expectation in and_expectation:\n",
    "\n",
    "        output = n_and.activation(input_list)\n",
    "        n_and.calculate_error_output(n_and.output, expectation)\n",
    "        n_and.update(input_list)\n",
    "\n",
    "and_expectation = [[[False, False], False],  # Omdat de eerste dataset is geshuffled\n",
    "                   [[False, True], False], \n",
    "                   [[True, False], False], \n",
    "                   [[True, True], True]]\n",
    "\n",
    "updated_output = create_table_data(n_and.activation, and_expectation)\n",
    "print_table(updated_output, 'Uitkomst Na Training')\n",
    "\n",
    "print(n_and)"
   ]
  },
  {
   "cell_type": "code",
   "execution_count": 18,
   "metadata": {},
   "outputs": [
    {
     "name": "stdout",
     "output_type": "stream",
     "text": [
      "<Verwachting>\n",
      "             Input   Output\n",
      "0  [False, False]  [False]\n",
      "1   [False, True]   [True]\n",
      "2   [True, False]   [True]\n",
      "3    [True, True]  [False]\n",
      "\n",
      "<Uitkomst VOOR training>\n",
      "             Input                Output\n",
      "0  [False, False]  [0.6059468015087622]\n",
      "1   [False, True]  [0.6631895793149735]\n",
      "2   [True, False]  [0.6631895793149735]\n",
      "3    [True, True]  [0.7188238810813806]\n",
      "\n",
      "<Uitkomst NA training>\n",
      "             Input                  Output\n",
      "0  [False, False]  [0.012280355262875025]\n",
      "1   [False, True]    [0.9864443571155085]\n",
      "2   [True, False]    [0.9863483719710301]\n",
      "3    [True, True]    [0.0177275579983665]\n",
      "\n"
     ]
    }
   ],
   "source": [
    "\"\"\"XOR Test\"\"\"\n",
    "\n",
    "N1 = Neuron('Neuron 1', -1, [1, 1])\n",
    "N2 = Neuron('Neuron 2', -1, [0.5, 0.5])\n",
    "outputNeuron = Neuron('Output Neuron', 0, [0.6, 1])\n",
    "\n",
    "hiddenLayer = NeuronLayer('Hidden Layer', [N1, N2])\n",
    "outputLayer = NeuronLayer('Output Layer', [outputNeuron])\n",
    "\n",
    "network_xor = NeuronNetwork([hiddenLayer, outputLayer])\n",
    "\n",
    "xor_expectation = [[[False, False], [False]],\n",
    "                   [[False, True], [True]],\n",
    "                   [[True, False], [True]],\n",
    "                   [[True, True], [False]]]\n",
    "\n",
    "print_table(xor_expectation, \"Verwachting\")\n",
    "\n",
    "old_output = create_table_data(network_xor.feed_forward, xor_expectation)\n",
    "print_table(old_output, 'Uitkomst VOOR training')\n",
    "\n",
    "network_xor.train(xor_expectation, 1000)\n",
    "\n",
    "xor_expectation = [[[False, False], [False]],\n",
    "                   [[False, True], [True]],\n",
    "                   [[True, False], [True]],\n",
    "                   [[True, True], [False]]]\n",
    "\n",
    "new_output = create_table_data(network_xor.feed_forward, xor_expectation)\n",
    "print_table(new_output, 'Uitkomst NA training')\n"
   ]
  },
  {
   "cell_type": "code",
   "execution_count": 7,
   "metadata": {},
   "outputs": [
    {
     "name": "stdout",
     "output_type": "stream",
     "text": [
      "----------------------------------------\n",
      "Dit netwerk bestaat uit 2 layers\n",
      "\n",
      "<Verwachting>\n",
      "             Input          Output\n",
      "0  [False, False]  [False, False]\n",
      "1   [False, True]   [True, False]\n",
      "2   [True, False]   [True, False]\n",
      "3    [True, True]   [False, True]\n",
      "\n",
      "<Uitkomst VOOR training>\n",
      "             Input                                     Output\n",
      "0  [False, False]    [0.401312339887548, 0.3834334954786807]\n",
      "1   [False, True]  [0.49242401130314856, 0.4650657469449089]\n",
      "2   [True, False]  [0.49242401130314856, 0.4650657469449089]\n",
      "3    [True, True]    [0.5521287167773176, 0.519279377518996]\n",
      "\n",
      "<Uitkomst NA training>\n",
      "             Input                                         Output\n",
      "0  [False, False]  [0.002509190512634199, 0.0010643064043387616]\n",
      "1   [False, True]    [0.9981405746139544, 0.0012099223362366904]\n",
      "2   [True, False]    [0.9981397299223208, 0.0012054603643023606]\n",
      "3    [True, True]    [0.0016052309090875884, 0.9984514238665309]\n",
      "\n"
     ]
    }
   ],
   "source": [
    "\"\"\"ADDER Test\"\"\"\n",
    "\n",
    "N1 = Neuron('Neuron 1', 0, [1, 1])\n",
    "N2 = Neuron('Neuron 2', 0, [1, 1])\n",
    "N3 = Neuron('Neuron 3', 0, [1, 1])\n",
    "\n",
    "outputNeuron1 = Neuron('Output Neuron', -1.2, [0.5, 0.1, 1])\n",
    "outputNeuron2 = Neuron('Output Neuron', -1.2, [0.5, 0.15, 0.8])\n",
    "\n",
    "hiddenLayer = NeuronLayer('Hidden Layer', [N1, N2, N3])\n",
    "outputLayer = NeuronLayer('Output Layer', [outputNeuron1, outputNeuron2])\n",
    "\n",
    "network_adder = NeuronNetwork([hiddenLayer, outputLayer])\n",
    "print(network_adder)\n",
    "\n",
    "adder_expectation = [[[False, False], [False, False]],\n",
    "                   [[False, True], [True, False]],\n",
    "                   [[True, False], [True, False]],\n",
    "                   [[True, True], [False, True]]]\n",
    "\n",
    "print_table(adder_expectation, \"Verwachting\")\n",
    "\n",
    "old_output = create_table_data(network_adder.feed_forward, adder_expectation)\n",
    "print_table(old_output, 'Uitkomst VOOR training')\n",
    "\n",
    "network_adder.train(adder_expectation, 25000)\n",
    "adder_expectation = [[[False, False], [False, False]],\n",
    "                   [[False, True], [True, False]],\n",
    "                   [[True, False], [True, False]],\n",
    "                   [[True, True], [False, True]]]\n",
    "\n",
    "\n",
    "\n",
    "new_output = create_table_data(network_adder.feed_forward, adder_expectation)\n",
    "print_table(new_output, 'Uitkomst NA training')\n",
    "\n",
    "\n"
   ]
  },
  {
   "cell_type": "code",
   "execution_count": null,
   "metadata": {},
   "outputs": [],
   "source": []
  }
 ],
 "metadata": {
  "kernelspec": {
   "display_name": "Python 3",
   "language": "python",
   "name": "python3"
  },
  "language_info": {
   "codemirror_mode": {
    "name": "ipython",
    "version": 3
   },
   "file_extension": ".py",
   "mimetype": "text/x-python",
   "name": "python",
   "nbconvert_exporter": "python",
   "pygments_lexer": "ipython3",
   "version": "3.8.3"
  }
 },
 "nbformat": 4,
 "nbformat_minor": 4
}
