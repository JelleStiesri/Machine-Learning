{
 "cells": [
  {
   "cell_type": "markdown",
   "metadata": {},
   "source": [
    "## Machine-Learning Practicum 4 [Backpropagation]\n",
    "#### Door Jelle Stiesri | 12-3-2021"
   ]
  },
  {
   "cell_type": "markdown",
   "metadata": {},
   "source": [
    "#### Imports"
   ]
  },
  {
   "cell_type": "code",
   "execution_count": 1,
   "metadata": {},
   "outputs": [],
   "source": [
    "from Neuron import *\n",
    "from NeuronLayer import *\n",
    "from NeuronNetwork import *\n",
    "from timeit import default_timer as timer\n",
    "import random\n",
    "import pandas as pd\n",
    "import numpy as np\n",
    "from sklearn.metrics import accuracy_score\n",
    "from sklearn import datasets\n",
    "import matplotlib.pyplot as plt\n",
    "from sklearn.model_selection import train_test_split"
   ]
  },
  {
   "cell_type": "markdown",
   "metadata": {},
   "source": [
    "#### Maken van een waarheidstabel"
   ]
  },
  {
   "cell_type": "code",
   "execution_count": 2,
   "metadata": {},
   "outputs": [],
   "source": [
    "\"\"\"Deze functie is ervoor bedoelt om makkelijker weer te kunnen geven of een output True or False \n",
    "representeert. Dit kan alleen bij neurons waar je bijvoorbeeld een logische poort mee wilt simuleren\"\"\"\n",
    "\n",
    "def trueORfalse(output):\n",
    "    result = []\n",
    "    for number in output:\n",
    "        if number < 0.5:\n",
    "            result.append(False)\n",
    "        elif number > 0.95:\n",
    "            result.append(True)\n",
    "        else:\n",
    "            result.append(number)\n",
    "    return result"
   ]
  },
  {
   "cell_type": "code",
   "execution_count": 3,
   "metadata": {},
   "outputs": [],
   "source": [
    "def create_table_data(function, expectations):\n",
    "    \"\"\"Deze functie berekent de uitkomst van een Neuron/netwerk en geeft dit terug in een goed format\"\"\"\n",
    "    data = []\n",
    "\n",
    "    for item in expectations:\n",
    "        output = function(item[0])\n",
    "        if type(output) != list:\n",
    "            output = [output]\n",
    "        data.append([item[0], trueORfalse(output)])\n",
    "    return data\n"
   ]
  },
  {
   "cell_type": "code",
   "execution_count": 4,
   "metadata": {},
   "outputs": [],
   "source": [
    "def print_table(data, caption):\n",
    "    \"\"\"Deze functie print een waarheidstabel\"\"\"\n",
    "    columns = ['Input', 'Output']\n",
    "    \n",
    "    df = pd.DataFrame.from_records(data, columns=columns)\n",
    "    print(f'<{caption}>\\n {df}\\n')\n",
    "    "
   ]
  },
  {
   "cell_type": "code",
   "execution_count": 5,
   "metadata": {},
   "outputs": [],
   "source": [
    "def classify(x):\n",
    "    \"\"\"Deze functie classificeert een lijst met outputs tot 1 output. Dit is de hoogste output\"\"\"\n",
    "    e_x = np.exp(x - np.max(x))  # Voert het softmax algoritme uit zodat je uitkomsten beter kan classificeren\n",
    "    softmax = e_x / e_x.sum(axis=0) \n",
    "\n",
    "    return np.where(softmax == np.amax(softmax))[0][0]  # returnt de index van de hoogste waarde\n"
   ]
  },
  {
   "cell_type": "code",
   "execution_count": 6,
   "metadata": {},
   "outputs": [],
   "source": [
    "def test_outcome_binary_table(expectation, outcome):\n",
    "    assert expectation == outcome, 'Test mislukt - Verwachting & uitkomst niet hetzelfde'\n",
    "    print(\"Test geslaagd - Verwachting & uitkomst hetzelfde\")"
   ]
  },
  {
   "cell_type": "markdown",
   "metadata": {},
   "source": [
    "#### Random startwaarden"
   ]
  },
  {
   "cell_type": "code",
   "execution_count": 7,
   "metadata": {},
   "outputs": [],
   "source": [
    "def generate_random_float():\n",
    "    return round(random.uniform(-10, 10),1)\n",
    "\n",
    "def generate_random_list(numbers):\n",
    "    lst = []\n",
    "    for item in range(numbers):\n",
    "        lst.append(generate_random_float())\n",
    "    \n",
    "    return [float(i)/max(lst) for i in lst]"
   ]
  },
  {
   "cell_type": "markdown",
   "metadata": {},
   "source": [
    "## Neurons\n"
   ]
  },
  {
   "attachments": {
    "image.png": {
     "image/png": "[encoded data removed]"
    }
   },
   "cell_type": "markdown",
   "metadata": {},
   "source": [
    "#### AND\n",
    "![image.png](attachment:image.png)\n"
   ]
  },
  {
   "cell_type": "code",
   "execution_count": 8,
   "metadata": {},
   "outputs": [
    {
     "name": "stdout",
     "output_type": "stream",
     "text": [
      "<AND port>\n",
      "- Bias = -8.3\n",
      "- Weights = [4.304347826086957, 1.0]\n",
      "\n",
      "<Verwachting>\n",
      "             Input  Output\n",
      "0  [False, False]   False\n",
      "1   [False, True]   False\n",
      "2   [True, False]   False\n",
      "3    [True, True]    True\n",
      "\n",
      "<Uitkomst VOOR training>\n",
      "             Input   Output\n",
      "0  [False, False]  [False]\n",
      "1   [False, True]  [False]\n",
      "2   [True, False]  [False]\n",
      "3    [True, True]  [False]\n",
      "\n",
      "<Uitkomst Na Training>\n",
      "             Input   Output\n",
      "0  [False, False]  [False]\n",
      "1   [False, True]  [False]\n",
      "2   [True, False]  [False]\n",
      "3    [True, True]   [True]\n",
      "\n",
      "<AND port>\n",
      "- Bias = -13.59723420525501\n",
      "- Weights = [9.008199886811449, 9.008209399082276]\n",
      "\n",
      "Test geslaagd - Verwachting & uitkomst hetzelfde\n"
     ]
    }
   ],
   "source": [
    "\"\"\"AND Test\"\"\"\n",
    "\n",
    "n_and = Neuron('AND', generate_random_float(), generate_random_list(2))\n",
    "print(n_and)\n",
    "\n",
    "and_expectation = [[[False, False], False],  # Verwachtingen\n",
    "                   [[False, True], False], \n",
    "                   [[True, False], False], \n",
    "                   [[True, True], True]]\n",
    "\n",
    "print_table(and_expectation, 'Verwachting')\n",
    "\n",
    "old_output = create_table_data(n_and.activation, and_expectation) \n",
    "print_table(old_output, 'Uitkomst VOOR training')\n",
    "\n",
    "# Trainen van losse neuron\n",
    "epochs = 2500\n",
    "for i in range(epochs):\n",
    "    random.shuffle(and_expectation)\n",
    "    for input_list, expectation in and_expectation:\n",
    "\n",
    "        output = n_and.activation(input_list)\n",
    "        n_and.calculate_error_output(n_and.output, expectation)\n",
    "        n_and.update(input_list, 10)\n",
    "\n",
    "and_expectation = [[[False, False], [False]],  # Omdat de eerste dataset is geshuffled\n",
    "                   [[False, True], [False]], \n",
    "                   [[True, False], [False]], \n",
    "                   [[True, True], [True]]]\n",
    "\n",
    "new_output = create_table_data(n_and.activation, and_expectation)\n",
    "print_table(new_output, 'Uitkomst Na Training')\n",
    "\n",
    "print(n_and)\n",
    "\n",
    "test_outcome_binary_table(and_expectation, new_output) # Test de uitkomst"
   ]
  },
  {
   "cell_type": "code",
   "execution_count": 9,
   "metadata": {},
   "outputs": [
    {
     "name": "stdout",
     "output_type": "stream",
     "text": [
      "<Verwachting>\n",
      "             Input   Output\n",
      "0  [False, False]  [False]\n",
      "1   [False, True]   [True]\n",
      "2   [True, False]   [True]\n",
      "3    [True, True]  [False]\n",
      "\n",
      "<Uitkomst VOOR training>\n",
      "             Input                Output\n",
      "0  [False, False]  [0.6059468015087622]\n",
      "1   [False, True]  [0.6631895793149735]\n",
      "2   [True, False]  [0.6631895793149735]\n",
      "3    [True, True]  [0.7188238810813806]\n",
      "\n",
      "<Uitkomst NA training>\n",
      "             Input   Output\n",
      "0  [False, False]  [False]\n",
      "1   [False, True]   [True]\n",
      "2   [True, False]   [True]\n",
      "3    [True, True]  [False]\n",
      "\n",
      "Test geslaagd - Verwachting & uitkomst hetzelfde\n"
     ]
    }
   ],
   "source": [
    "\"\"\"XOR Test\"\"\"\n",
    "\n",
    "N1 = Neuron('Neuron 1', -1, [1, 1])\n",
    "N2 = Neuron('Neuron 2', -1, [0.5, 0.5])\n",
    "outputNeuron = Neuron('Output Neuron', 0, [0.6, 1])\n",
    "\n",
    "hiddenLayer = NeuronLayer('Hidden Layer', [N1, N2])\n",
    "outputLayer = NeuronLayer('Output Layer', [outputNeuron])\n",
    "\n",
    "network_xor = NeuronNetwork([hiddenLayer, outputLayer])\n",
    "\n",
    "xor_expectation = [[[False, False], [False]],\n",
    "                   [[False, True], [True]],\n",
    "                   [[True, False], [True]],\n",
    "                   [[True, True], [False]]]\n",
    "\n",
    "print_table(xor_expectation, \"Verwachting\")\n",
    "\n",
    "old_output = create_table_data(network_xor.feed_forward, xor_expectation)\n",
    "print_table(old_output, 'Uitkomst VOOR training')\n",
    "\n",
    "epochs = 500\n",
    "learning_rate = 10\n",
    "network_xor.train(xor_expectation, epochs, learning_rate) # Trainen van het netwerk\n",
    "\n",
    "xor_expectation = [[[False, False], [False]],\n",
    "                   [[False, True], [True]],\n",
    "                   [[True, False], [True]],\n",
    "                   [[True, True], [False]]]\n",
    "\n",
    "new_output = create_table_data(network_xor.feed_forward, xor_expectation)\n",
    "print_table(new_output, 'Uitkomst NA training')\n",
    "\n",
    "test_outcome_binary_table(xor_expectation, new_output) # Test de uitkomst"
   ]
  },
  {
   "cell_type": "code",
   "execution_count": 10,
   "metadata": {},
   "outputs": [
    {
     "name": "stdout",
     "output_type": "stream",
     "text": [
      "----------------------------------------\n",
      "Dit netwerk bestaat uit 2 layers\n",
      "\n",
      "<Verwachting>\n",
      "             Input          Output\n",
      "0  [False, False]  [False, False]\n",
      "1   [False, True]   [True, False]\n",
      "2   [True, False]   [True, False]\n",
      "3    [True, True]   [False, True]\n",
      "\n",
      "<Uitkomst VOOR training>\n",
      "             Input                                   Output\n",
      "0  [False, False]                           [False, False]\n",
      "1   [False, True]                           [False, False]\n",
      "2   [True, False]                           [False, False]\n",
      "3    [True, True]  [0.5521287167773176, 0.519279377518996]\n",
      "\n",
      "<Uitkomst NA training>\n",
      "             Input          Output\n",
      "0  [False, False]  [False, False]\n",
      "1   [False, True]   [True, False]\n",
      "2   [True, False]   [True, False]\n",
      "3    [True, True]   [False, True]\n",
      "\n",
      "Test geslaagd - Verwachting & uitkomst hetzelfde\n"
     ]
    }
   ],
   "source": [
    "\"\"\"ADDER Test\"\"\"\n",
    "\n",
    "N1 = Neuron('Neuron 1', 0, [1, 1])\n",
    "N2 = Neuron('Neuron 2', 0, [1, 1])\n",
    "N3 = Neuron('Neuron 3', 0, [1, 1])\n",
    "\n",
    "outputNeuron1 = Neuron('Output Neuron', -1.2, [0.5, 0.1, 1])\n",
    "outputNeuron2 = Neuron('Output Neuron', -1.2, [0.5, 0.15, 0.8])\n",
    "\n",
    "hiddenLayer = NeuronLayer('Hidden Layer', [N1, N2, N3])\n",
    "outputLayer = NeuronLayer('Output Layer', [outputNeuron1, outputNeuron2])\n",
    "\n",
    "network_adder = NeuronNetwork([hiddenLayer, outputLayer])\n",
    "print(network_adder)\n",
    "\n",
    "adder_expectation = [[[False, False], [False, False]],\n",
    "                   [[False, True], [True, False]],\n",
    "                   [[True, False], [True, False]],\n",
    "                   [[True, True], [False, True]]]\n",
    "\n",
    "print_table(adder_expectation, \"Verwachting\")\n",
    "\n",
    "old_output = create_table_data(network_adder.feed_forward, adder_expectation)\n",
    "print_table(old_output, 'Uitkomst VOOR training')\n",
    "\n",
    "epochs = 500\n",
    "learning_rate = 10\n",
    "network_adder.train(adder_expectation, epochs, learning_rate)\n",
    "\n",
    "adder_expectation = [[[False, False], [False, False]],\n",
    "                   [[False, True], [True, False]],\n",
    "                   [[True, False], [True, False]],\n",
    "                   [[True, True], [False, True]]]\n",
    "\n",
    "\n",
    "\n",
    "new_output = create_table_data(network_adder.feed_forward, adder_expectation)\n",
    "print_table(new_output, 'Uitkomst NA training')\n",
    "\n",
    "\n",
    "test_outcome_binary_table(adder_expectation, new_output)"
   ]
  },
  {
   "cell_type": "markdown",
   "metadata": {},
   "source": [
    "## IRIS dataset\n"
   ]
  },
  {
   "cell_type": "code",
   "execution_count": 11,
   "metadata": {},
   "outputs": [],
   "source": [
    "def create_table_data_iris(function, expectations):\n",
    "    data = []\n",
    "    outputs = []\n",
    "\n",
    "    for item in expectations:\n",
    "        output = function(item[0])\n",
    "        outputs.append(classify(output))\n",
    "        data.append([item[0], classify(output)])\n",
    "#         data.append([item[0], output])\n",
    "    return data, outputs\n"
   ]
  },
  {
   "cell_type": "code",
   "execution_count": 12,
   "metadata": {},
   "outputs": [
    {
     "data": {
      "text/html": [
       "<div>\n",
       "<style scoped>\n",
       "    .dataframe tbody tr th:only-of-type {\n",
       "        vertical-align: middle;\n",
       "    }\n",
       "\n",
       "    .dataframe tbody tr th {\n",
       "        vertical-align: top;\n",
       "    }\n",
       "\n",
       "    .dataframe thead th {\n",
       "        text-align: right;\n",
       "    }\n",
       "</style>\n",
       "<table border=\"1\" class=\"dataframe\">\n",
       "  <thead>\n",
       "    <tr style=\"text-align: right;\">\n",
       "      <th></th>\n",
       "      <th>sepal length (cm)</th>\n",
       "      <th>sepal width (cm)</th>\n",
       "      <th>petal length (cm)</th>\n",
       "      <th>petal width (cm)</th>\n",
       "    </tr>\n",
       "  </thead>\n",
       "  <tbody>\n",
       "    <tr>\n",
       "      <th>0</th>\n",
       "      <td>5.1</td>\n",
       "      <td>3.5</td>\n",
       "      <td>1.4</td>\n",
       "      <td>0.2</td>\n",
       "    </tr>\n",
       "    <tr>\n",
       "      <th>1</th>\n",
       "      <td>4.9</td>\n",
       "      <td>3.0</td>\n",
       "      <td>1.4</td>\n",
       "      <td>0.2</td>\n",
       "    </tr>\n",
       "    <tr>\n",
       "      <th>2</th>\n",
       "      <td>4.7</td>\n",
       "      <td>3.2</td>\n",
       "      <td>1.3</td>\n",
       "      <td>0.2</td>\n",
       "    </tr>\n",
       "    <tr>\n",
       "      <th>3</th>\n",
       "      <td>4.6</td>\n",
       "      <td>3.1</td>\n",
       "      <td>1.5</td>\n",
       "      <td>0.2</td>\n",
       "    </tr>\n",
       "    <tr>\n",
       "      <th>4</th>\n",
       "      <td>5.0</td>\n",
       "      <td>3.6</td>\n",
       "      <td>1.4</td>\n",
       "      <td>0.2</td>\n",
       "    </tr>\n",
       "    <tr>\n",
       "      <th>...</th>\n",
       "      <td>...</td>\n",
       "      <td>...</td>\n",
       "      <td>...</td>\n",
       "      <td>...</td>\n",
       "    </tr>\n",
       "    <tr>\n",
       "      <th>145</th>\n",
       "      <td>6.7</td>\n",
       "      <td>3.0</td>\n",
       "      <td>5.2</td>\n",
       "      <td>2.3</td>\n",
       "    </tr>\n",
       "    <tr>\n",
       "      <th>146</th>\n",
       "      <td>6.3</td>\n",
       "      <td>2.5</td>\n",
       "      <td>5.0</td>\n",
       "      <td>1.9</td>\n",
       "    </tr>\n",
       "    <tr>\n",
       "      <th>147</th>\n",
       "      <td>6.5</td>\n",
       "      <td>3.0</td>\n",
       "      <td>5.2</td>\n",
       "      <td>2.0</td>\n",
       "    </tr>\n",
       "    <tr>\n",
       "      <th>148</th>\n",
       "      <td>6.2</td>\n",
       "      <td>3.4</td>\n",
       "      <td>5.4</td>\n",
       "      <td>2.3</td>\n",
       "    </tr>\n",
       "    <tr>\n",
       "      <th>149</th>\n",
       "      <td>5.9</td>\n",
       "      <td>3.0</td>\n",
       "      <td>5.1</td>\n",
       "      <td>1.8</td>\n",
       "    </tr>\n",
       "  </tbody>\n",
       "</table>\n",
       "<p>150 rows × 4 columns</p>\n",
       "</div>"
      ],
      "text/plain": [
       "     sepal length (cm)  sepal width (cm)  petal length (cm)  petal width (cm)\n",
       "0                  5.1               3.5                1.4               0.2\n",
       "1                  4.9               3.0                1.4               0.2\n",
       "2                  4.7               3.2                1.3               0.2\n",
       "3                  4.6               3.1                1.5               0.2\n",
       "4                  5.0               3.6                1.4               0.2\n",
       "..                 ...               ...                ...               ...\n",
       "145                6.7               3.0                5.2               2.3\n",
       "146                6.3               2.5                5.0               1.9\n",
       "147                6.5               3.0                5.2               2.0\n",
       "148                6.2               3.4                5.4               2.3\n",
       "149                5.9               3.0                5.1               1.8\n",
       "\n",
       "[150 rows x 4 columns]"
      ]
     },
     "execution_count": 12,
     "metadata": {},
     "output_type": "execute_result"
    }
   ],
   "source": [
    "from sklearn.datasets import load_iris\n",
    "\n",
    "data = load_iris(as_frame=True)\n",
    "data['data']"
   ]
  },
  {
   "cell_type": "code",
   "execution_count": 13,
   "metadata": {},
   "outputs": [],
   "source": [
    "\"\"\"Train / Test Split\"\"\"\n",
    "features_train, features_test, targets_train, targets_test = train_test_split(data['data'], data['target'], test_size=0.33, shuffle = True)\n",
    "\n",
    "targets_train = pd.get_dummies(targets_train).values.tolist() \n",
    "features_train = features_train.values.tolist()\n",
    "features_test = features_test.values.tolist()"
   ]
  },
  {
   "cell_type": "code",
   "execution_count": 14,
   "metadata": {},
   "outputs": [],
   "source": [
    "train_iris = [list(x) for x in zip(features_train, targets_train)]\n",
    "test_iris = [list(x) for x in zip(features_test, targets_test)]"
   ]
  },
  {
   "cell_type": "code",
   "execution_count": 15,
   "metadata": {
    "scrolled": true
   },
   "outputs": [
    {
     "name": "stdout",
     "output_type": "stream",
     "text": [
      "----------------------------------------\n",
      "Dit netwerk bestaat uit 2 layers\n",
      "\n",
      "Score [Voor training]: <0.34>\n",
      "\n",
      "Score [Na training]: <0.9>\n",
      "\n"
     ]
    }
   ],
   "source": [
    "\"\"\"IRIS Test\"\"\"\n",
    "\n",
    "N1 = Neuron('Neuron 1', 0, [0.2, 0.4, 0.6, 0.8])\n",
    "N2 = Neuron('Neuron 2', 0, [0.2, 0.4, 0.6, 0.8])\n",
    "N3 = Neuron('Neuron 3', 0, [0.2, 0.4, 0.6, 0.8])\n",
    "\n",
    "\n",
    "outputNeuron1 = Neuron('outputNeuron 1', 0,  [0.0, 0.1, 0.2])\n",
    "outputNeuron2 = Neuron('outputNeuron 2', 0,  [0.3, 0.4, 0.5])\n",
    "outputNeuron3 = Neuron('outputNeuron 3', 0,  [0.6, 0.7, 0.8])\n",
    "\n",
    "\n",
    "hiddenLayer1 = NeuronLayer('Hidden Layer1', [N1, N2, N3])\n",
    "outputLayer = NeuronLayer('Output Layer', [outputNeuron1, outputNeuron2, outputNeuron3])\n",
    "\n",
    "network_iris = NeuronNetwork([hiddenLayer1, outputLayer])\n",
    "print(network_iris)\n",
    "\n",
    "\n",
    "# print_table(test_iris, \"Verwachting\")\n",
    "\n",
    "old_output, old_outputs = create_table_data_iris(network_iris.feed_forward, test_iris)\n",
    "# print_table(old_output, 'Uitkomst VOOR training')\n",
    "print(f'Score [Voor training]: <{accuracy_score(list(targets_test), old_outputs)}>\\n')\n",
    "\n",
    "\n",
    "network_iris.train(train_iris, 200, 0.1)\n",
    "\n",
    "new_output, new_outputs = create_table_data_iris(network_iris.feed_forward, test_iris)\n",
    "# print_table(new_output, 'Uitkomst NA training')\n",
    "print(f'Score [Na training]: <{accuracy_score(list(targets_test), new_outputs)}>\\n')\n"
   ]
  },
  {
   "cell_type": "markdown",
   "metadata": {},
   "source": [
    "Ik weet uiteindelijk een score van (vaak) 94% te halen, Toen ik eerst ging testen met startwaardes van bijvoorbeeld 1 was dit een stuk lager, dit doet dus blijken dat het naast een correct werkten leeralgoritme ook belangrijk is om de startwaardes goed te kiezen."
   ]
  },
  {
   "attachments": {
    "image.png": {
     "image/png": "[encoded data removed]"
    }
   },
   "cell_type": "markdown",
   "metadata": {},
   "source": [
    "Toevoeging, door iets werkte het getrainde netwerk opeens niet meer goed... nu komt hij niet verder dan 40..\n",
    "![image.png](attachment:image.png)"
   ]
  },
  {
   "cell_type": "markdown",
   "metadata": {},
   "source": [
    "## Digit dataset\n"
   ]
  },
  {
   "cell_type": "code",
   "execution_count": 16,
   "metadata": {},
   "outputs": [],
   "source": [
    "digits = datasets.load_digits()\n",
    "n_samples = len(digits.images)\n",
    "data_digits = digits.images.reshape((n_samples, -1))\n",
    "targets_digits = digits.target"
   ]
  },
  {
   "cell_type": "code",
   "execution_count": 17,
   "metadata": {},
   "outputs": [],
   "source": [
    "\"\"\"Test / Train Split\"\"\"\n",
    "features_train, features_test, targets_train, targets_test = train_test_split(data_digits, targets_digits, test_size=0.33, shuffle = True)\n",
    "\n",
    "targets_train = pd.get_dummies(targets_train).values.tolist() "
   ]
  },
  {
   "cell_type": "code",
   "execution_count": 18,
   "metadata": {},
   "outputs": [],
   "source": [
    "train_digit = [list(x) for x in zip(features_train, targets_train)]\n",
    "test_digit = [list(x) for x in zip(features_test, targets_test)]\n"
   ]
  },
  {
   "cell_type": "code",
   "execution_count": 19,
   "metadata": {},
   "outputs": [
    {
     "name": "stdout",
     "output_type": "stream",
     "text": [
      "----------------------------------------\n",
      "<Hidden Layer 1> - Deze layer bestaat uit 25 neurons\n",
      "\n",
      "----------------------------------------\n",
      "<Output Layer> - Deze layer bestaat uit 10 neurons\n",
      "\n",
      "----------------------------------------\n",
      "Dit netwerk bestaat uit 2 layers\n",
      "\n",
      "Score [Voor training]: <0.02356902356902357>\n",
      "\n"
     ]
    },
    {
     "name": "stderr",
     "output_type": "stream",
     "text": [
      "D:\\HU-Studie\\Machine-Learning\\Machine-Learning\\P4\\Neuron.py:25: RuntimeWarning: overflow encountered in double_scalars\n",
      "  return 1 / (1 + e ** -weighted_sum)\n"
     ]
    },
    {
     "name": "stdout",
     "output_type": "stream",
     "text": [
      "Het trainen van het Digit-Network met 15 epochs een een learning rate van 0.5 duurde:\n",
      " >43.45 Seconden\n",
      "\n",
      "Score [Na training]: <0.7407407407407407>\n",
      "\n"
     ]
    }
   ],
   "source": [
    "\"\"\"Digit Test\"\"\"\n",
    "\n",
    "hiddenNeurons = []\n",
    "for i in range(25): \n",
    "    hiddenNeurons.append(Neuron(f'hiddenNeuron {i}', 0, generate_random_list(64)))\n",
    "\n",
    "outputNeurons = []\n",
    "for i in range(10): # Er zijn 10 mogelijk targets\n",
    "    outputNeurons.append(Neuron(f'outputNeuron {i}', 0, generate_random_list(25)))\n",
    "\n",
    "hiddenLayer1 = NeuronLayer('Hidden Layer 1', hiddenNeurons)\n",
    "print(hiddenLayer1)\n",
    "outputLayer = NeuronLayer('Output Layer', outputNeurons)\n",
    "print(outputLayer)\n",
    "\n",
    "network_digit = NeuronNetwork([hiddenLayer1, outputLayer])\n",
    "print(network_digit)\n",
    "\n",
    "\n",
    "# print_table(test, \"Verwachting\")\n",
    "\n",
    "old_output, old_outputs = create_table_data_iris(network_digit.feed_forward, test_digit)\n",
    "# print_table(old_output, 'Uitkomst VOOR training')\n",
    "print(f'Score [Voor training]: <{accuracy_score(list(targets_test), old_outputs)}>\\n')\n",
    "\n",
    "epochs = 15\n",
    "learning_rate = 0.5\n",
    "\n",
    "start = timer()\n",
    "network_digit.train(train_digit, epochs, learning_rate)\n",
    "elapsed_time = timer() - start\n",
    "print(f'Het trainen van het Digit-Network met {epochs} epochs een een learning rate van {learning_rate} duurde:\\n >{round(elapsed_time,2)} Seconden\\n')\n",
    "\n",
    "new_output, new_outputs = create_table_data_iris(network_digit.feed_forward, test_digit)\n",
    "# print_table(new_output, 'Uitkomst NA training')\n",
    "print(f'Score [Na training]: <{accuracy_score(list(targets_test), new_outputs)}>\\n')\n",
    "\n"
   ]
  },
  {
   "cell_type": "markdown",
   "metadata": {},
   "source": [
    "## Conlusie: \n",
    "Het trainen van een (nog relatief simpel) Netwerk kost veel tijd. Wel weet ik met de digit dataset soms een score van meer dan 75% te halen (ligt aan de test/train split & random gekozen parameters...)"
   ]
  },
  {
   "cell_type": "code",
   "execution_count": null,
   "metadata": {},
   "outputs": [],
   "source": []
  }
 ],
 "metadata": {
  "kernelspec": {
   "display_name": "Python 3",
   "language": "python",
   "name": "python3"
  },
  "language_info": {
   "codemirror_mode": {
    "name": "ipython",
    "version": 3
   },
   "file_extension": ".py",
   "mimetype": "text/x-python",
   "name": "python",
   "nbconvert_exporter": "python",
   "pygments_lexer": "ipython3",
   "version": "3.8.3"
  }
 },
 "nbformat": 4,
 "nbformat_minor": 4
}
